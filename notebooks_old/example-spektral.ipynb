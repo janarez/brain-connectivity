{
 "metadata": {
  "language_info": {
   "codemirror_mode": {
    "name": "ipython",
    "version": 3
   },
   "file_extension": ".py",
   "mimetype": "text/x-python",
   "name": "python",
   "nbconvert_exporter": "python",
   "pygments_lexer": "ipython3",
   "version": "3.7.6-final"
  },
  "orig_nbformat": 2,
  "kernelspec": {
   "name": "python3",
   "display_name": "Python 3.7.6 64-bit ('.venv')",
   "metadata": {
    "interpreter": {
     "hash": "7ff990880d280141c4c874f19733d121bb8e003ad831d22b66270b3621cedc78"
    }
   }
  }
 },
 "nbformat": 4,
 "nbformat_minor": 2,
 "cells": [
  {
   "source": [
    "# Spektral playground"
   ],
   "cell_type": "markdown",
   "metadata": {}
  },
  {
   "cell_type": "code",
   "execution_count": 1,
   "metadata": {},
   "outputs": [],
   "source": [
    "from sklearn.model_selection import train_test_split\n",
    "from tensorflow.keras.callbacks import EarlyStopping\n",
    "from tensorflow.keras.layers import Input, Dense\n",
    "from tensorflow.keras.models import Model\n",
    "from tensorflow.keras.optimizers import Adam\n",
    "from tensorflow.keras.regularizers import l2\n",
    "\n",
    "from spektral.datasets import delaunay\n",
    "from spektral.layers import GraphAttention, GlobalAttentionPool"
   ]
  },
  {
   "cell_type": "code",
   "execution_count": 2,
   "metadata": {},
   "outputs": [],
   "source": [
    "\"\"\"\n",
    "This example shows how to perform graph classification with a synthetic dataset\n",
    "of Delaunay triangulations, using a graph attention network in batch mode.\n",
    "\"\"\"\n",
    "\n",
    "# Load data\n",
    "A, X, y = delaunay.generate_data(return_type='numpy', classes=[0, 5])"
   ]
  },
  {
   "cell_type": "code",
   "execution_count": 6,
   "metadata": {},
   "outputs": [
    {
     "output_type": "stream",
     "name": "stdout",
     "text": [
      "(2000, 7, 7)\n"
     ]
    },
    {
     "output_type": "execute_result",
     "data": {
      "text/plain": [
       "array([[0., 1., 0., 1., 1., 1., 0.],\n",
       "       [1., 0., 1., 0., 0., 1., 0.],\n",
       "       [0., 1., 0., 0., 0., 1., 1.],\n",
       "       [1., 0., 0., 0., 1., 1., 0.],\n",
       "       [1., 0., 0., 1., 0., 1., 1.],\n",
       "       [1., 1., 1., 1., 1., 0., 1.],\n",
       "       [0., 0., 1., 0., 1., 1., 0.]])"
      ]
     },
     "metadata": {},
     "execution_count": 6
    }
   ],
   "source": [
    "print(A.shape)\n",
    "A[0,:,:]"
   ]
  },
  {
   "cell_type": "code",
   "execution_count": 8,
   "metadata": {},
   "outputs": [
    {
     "output_type": "stream",
     "name": "stdout",
     "text": [
      "(2000, 7, 2)\n"
     ]
    },
    {
     "output_type": "execute_result",
     "data": {
      "text/plain": [
       "array([[ 1.02077013,  0.97343257],\n",
       "       [10.79575071,  4.55267798],\n",
       "       [ 9.44250279,  6.01343722],\n",
       "       [ 1.28170365,  3.20603835],\n",
       "       [-0.45947236,  6.55401358],\n",
       "       [ 5.86487842,  4.93557475],\n",
       "       [ 7.10837403,  8.38520455]])"
      ]
     },
     "metadata": {},
     "execution_count": 8
    }
   ],
   "source": [
    "print(X.shape)\n",
    "X[0,:,:]"
   ]
  },
  {
   "cell_type": "code",
   "execution_count": 10,
   "metadata": {},
   "outputs": [
    {
     "output_type": "stream",
     "name": "stdout",
     "text": [
      "(2000, 2)\n"
     ]
    },
    {
     "output_type": "execute_result",
     "data": {
      "text/plain": [
       "array([1., 0.])"
      ]
     },
     "metadata": {},
     "execution_count": 10
    }
   ],
   "source": [
    "print(y.shape)\n",
    "y[0,:]"
   ]
  },
  {
   "cell_type": "code",
   "execution_count": 11,
   "metadata": {},
   "outputs": [],
   "source": [
    "# Parameters\n",
    "N = X.shape[-2]          # Number of nodes in the graphs            |   7\n",
    "F = X.shape[-1]          # Original feature dimensionality          |   7\n",
    "n_classes = y.shape[-1]  # Number of classes                        |   2\n",
    "\n",
    "l2_reg = 5e-4            # Regularization rate for l2\n",
    "learning_rate = 1e-3     # Learning rate for Adam\n",
    "epochs = 20              # Number of training epochs\n",
    "batch_size = 32          # Batch size\n",
    "es_patience = 200        # Patience fot early stopping"
   ]
  },
  {
   "cell_type": "code",
   "execution_count": 12,
   "metadata": {},
   "outputs": [],
   "source": [
    "# Train/test split\n",
    "A_train, A_test, \\\n",
    "x_train, x_test, \\\n",
    "y_train, y_test = train_test_split(A, X, y, test_size=0.1)\n"
   ]
  },
  {
   "cell_type": "code",
   "execution_count": 5,
   "metadata": {},
   "outputs": [],
   "source": [
    "# Model definition\n",
    "X_in = Input(shape=(N, F))\n",
    "A_in = Input((N, N))\n",
    "\n",
    "gc1 = GraphAttention(32, activation='relu', kernel_regularizer=l2(l2_reg))([X_in, A_in])\n",
    "gc2 = GraphAttention(32, activation='relu', kernel_regularizer=l2(l2_reg))([gc1, A_in])\n",
    "pool = GlobalAttentionPool(128)(gc2)\n",
    "\n",
    "output = Dense(n_classes, activation='softmax')(pool)"
   ]
  },
  {
   "cell_type": "code",
   "execution_count": 6,
   "metadata": {},
   "outputs": [
    {
     "output_type": "stream",
     "name": "stdout",
     "text": [
      "Model: \"functional_1\"\n__________________________________________________________________________________________________\nLayer (type)                    Output Shape         Param #     Connected to                     \n==================================================================================================\ninput_1 (InputLayer)            [(None, 7, 2)]       0                                            \n__________________________________________________________________________________________________\ninput_2 (InputLayer)            [(None, 7, 7)]       0                                            \n__________________________________________________________________________________________________\ngraph_attention (GraphAttention (None, 7, 32)        160         input_1[0][0]                    \n                                                                 input_2[0][0]                    \n__________________________________________________________________________________________________\ngraph_attention_1 (GraphAttenti (None, 7, 32)        1120        graph_attention[0][0]            \n                                                                 input_2[0][0]                    \n__________________________________________________________________________________________________\nglobal_attention_pool (GlobalAt (None, 128)          8448        graph_attention_1[0][0]          \n__________________________________________________________________________________________________\ndense (Dense)                   (None, 2)            258         global_attention_pool[0][0]      \n==================================================================================================\nTotal params: 9,986\nTrainable params: 9,986\nNon-trainable params: 0\n__________________________________________________________________________________________________\n"
     ]
    }
   ],
   "source": [
    "# Build model\n",
    "model = Model(inputs=[X_in, A_in], outputs=output)\n",
    "optimizer = Adam(lr=learning_rate)\n",
    "model.compile(optimizer=optimizer, loss='categorical_crossentropy', metrics=['acc'])\n",
    "model.summary()"
   ]
  },
  {
   "cell_type": "code",
   "execution_count": 15,
   "metadata": {
    "tags": []
   },
   "outputs": [
    {
     "output_type": "stream",
     "name": "stdout",
     "text": [
      "Epoch 1/20\n",
      "51/51 [==============================] - 1s 11ms/step - loss: 0.6313 - acc: 0.6253 - val_loss: 0.5044 - val_acc: 0.7778\n",
      "Epoch 2/20\n",
      "51/51 [==============================] - 0s 4ms/step - loss: 0.4729 - acc: 0.7827 - val_loss: 0.4289 - val_acc: 0.8056\n",
      "Epoch 3/20\n",
      "51/51 [==============================] - 0s 4ms/step - loss: 0.4465 - acc: 0.7938 - val_loss: 0.4105 - val_acc: 0.8111\n",
      "Epoch 4/20\n",
      "51/51 [==============================] - 0s 4ms/step - loss: 0.4369 - acc: 0.8056 - val_loss: 0.4075 - val_acc: 0.8000\n",
      "Epoch 5/20\n",
      "51/51 [==============================] - 0s 5ms/step - loss: 0.4313 - acc: 0.8056 - val_loss: 0.3616 - val_acc: 0.8500\n",
      "Epoch 6/20\n",
      "51/51 [==============================] - 0s 4ms/step - loss: 0.4138 - acc: 0.8265 - val_loss: 0.3441 - val_acc: 0.8722\n",
      "Epoch 7/20\n",
      "51/51 [==============================] - 0s 4ms/step - loss: 0.4042 - acc: 0.8259 - val_loss: 0.3513 - val_acc: 0.8556\n",
      "Epoch 8/20\n",
      "51/51 [==============================] - 0s 4ms/step - loss: 0.3585 - acc: 0.8494 - val_loss: 0.4709 - val_acc: 0.7333\n",
      "Epoch 9/20\n",
      "51/51 [==============================] - 0s 4ms/step - loss: 0.3605 - acc: 0.8543 - val_loss: 0.3933 - val_acc: 0.8167\n",
      "Epoch 10/20\n",
      "51/51 [==============================] - 0s 4ms/step - loss: 0.3501 - acc: 0.8611 - val_loss: 0.6656 - val_acc: 0.6667\n",
      "Epoch 11/20\n",
      "51/51 [==============================] - 0s 4ms/step - loss: 0.3101 - acc: 0.8741 - val_loss: 0.6222 - val_acc: 0.6778\n",
      "Epoch 12/20\n",
      "51/51 [==============================] - 0s 4ms/step - loss: 0.3091 - acc: 0.8630 - val_loss: 0.6744 - val_acc: 0.6722\n",
      "Epoch 13/20\n",
      "51/51 [==============================] - 0s 5ms/step - loss: 0.3190 - acc: 0.8765 - val_loss: 0.4458 - val_acc: 0.7722\n",
      "Epoch 14/20\n",
      "51/51 [==============================] - 0s 5ms/step - loss: 0.3253 - acc: 0.8710 - val_loss: 0.4932 - val_acc: 0.7389\n",
      "Epoch 15/20\n",
      "51/51 [==============================] - 0s 5ms/step - loss: 0.3096 - acc: 0.8846 - val_loss: 0.7147 - val_acc: 0.6722\n",
      "Epoch 16/20\n",
      "51/51 [==============================] - 0s 4ms/step - loss: 0.2965 - acc: 0.8858 - val_loss: 0.7565 - val_acc: 0.6667\n",
      "Epoch 17/20\n",
      "51/51 [==============================] - 0s 4ms/step - loss: 0.3021 - acc: 0.8784 - val_loss: 0.6949 - val_acc: 0.6722\n",
      "Epoch 18/20\n",
      "51/51 [==============================] - 0s 4ms/step - loss: 0.2992 - acc: 0.8864 - val_loss: 0.5043 - val_acc: 0.7611\n",
      "Epoch 19/20\n",
      "51/51 [==============================] - 0s 4ms/step - loss: 0.3029 - acc: 0.8790 - val_loss: 0.9285 - val_acc: 0.6389\n",
      "Epoch 20/20\n",
      "51/51 [==============================] - 0s 4ms/step - loss: 0.3163 - acc: 0.8654 - val_loss: 0.6680 - val_acc: 0.6722\n"
     ]
    },
    {
     "output_type": "execute_result",
     "data": {
      "text/plain": [
       "<tensorflow.python.keras.callbacks.History at 0x24d145a6cc8>"
      ]
     },
     "metadata": {},
     "execution_count": 15
    }
   ],
   "source": [
    "# Train model\n",
    "model.fit([x_train, A_train],\n",
    "          y_train,\n",
    "          batch_size=batch_size,\n",
    "          validation_split=0.1,\n",
    "          epochs=epochs,\n",
    "          callbacks=[\n",
    "              EarlyStopping(patience=es_patience, restore_best_weights=True)\n",
    "          ])"
   ]
  },
  {
   "cell_type": "code",
   "execution_count": 16,
   "metadata": {},
   "outputs": [
    {
     "output_type": "stream",
     "name": "stdout",
     "text": [
      "Evaluating model.\n",
      "7/7 [==============================] - 0s 2ms/step - loss: 0.7106 - acc: 0.6650\n",
      "Done. Test loss: 0.7106. Test acc: 0.67\n"
     ]
    }
   ],
   "source": [
    "# Evaluate model\n",
    "print('Evaluating model.')\n",
    "eval_results = model.evaluate([x_test, A_test],\n",
    "                              y_test,\n",
    "                              batch_size=batch_size)\n",
    "print('Done. Test loss: {:.4f}. Test acc: {:.2f}'.format(*eval_results))"
   ]
  }
 ]
}