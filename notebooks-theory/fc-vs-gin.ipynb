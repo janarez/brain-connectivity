{
 "cells": [
  {
   "cell_type": "markdown",
   "metadata": {},
   "source": [
    "# GIN < FC"
   ]
  },
  {
   "cell_type": "code",
   "execution_count": null,
   "metadata": {},
   "outputs": [],
   "source": [
    "import numpy as np\n",
    "import pandas as pd \n",
    "import matplotlib.pyplot as plt\n",
    "from importlib import reload\n",
    "import os\n",
    "import torch\n",
    "import operator\n",
    "\n",
    "import sys\n",
    "sys.path.append(\"..\")\n",
    "from brain_connectivity import dataset, gin, dense, enums, training, evaluation, general_utils, data_utils\n"
   ]
  },
  {
   "cell_type": "code",
   "execution_count": null,
   "metadata": {},
   "outputs": [],
   "source": [
    "device = torch.device('cuda' if torch.cuda.is_available() else 'cpu')\n",
    "device"
   ]
  },
  {
   "cell_type": "markdown",
   "metadata": {},
   "source": [
    "## Train model"
   ]
  },
  {
   "cell_type": "code",
   "execution_count": null,
   "metadata": {},
   "outputs": [],
   "source": [
    "# Dataset parameters settings.\n",
    "dataset_params = {\n",
    "    # Raw data.\n",
    "    \"data_folder\": os.path.normpath('../data'),\n",
    "    \"device\": device,\n",
    "    \"upsample_ts\": None,\n",
    "    \"upsample_ts_method\": None,\n",
    "    \"correlation_type\": enums.CorrelationType.PEARSON,\n",
    "\n",
    "    # General data handling.\n",
    "    \"node_features\": enums.NodeFeatures.FC_MATRIX_ROW,\n",
    "    \"batch_size\": 1,\n",
    "\n",
    "    # How to create FC matrix.\n",
    "    \"geometric_kwargs\": {\n",
    "        \"thresholding_function\": enums.ThresholdingFunction.SUBJECT_VALUES,\n",
    "        \"threshold_type\": enums.DataThresholdingType.FIXED_THRESHOLD,\n",
    "        \"threshold\": 0.05,\n",
    "        \"thresholding_operator\": operator.ge,\n",
    "        \"threshold_by_absolute_value\": True,\n",
    "        \"return_absolute_value\": False,\n",
    "    }\n",
    "}"
   ]
  },
  {
   "cell_type": "code",
   "execution_count": null,
   "metadata": {},
   "outputs": [],
   "source": [
    "# Training parameters settings.\n",
    "training_params = {\n",
    "    # Training regime.\n",
    "    'epochs': 10,\n",
    "    'validation_frequency': 1,\n",
    "\n",
    "    # Optimizer.\n",
    "    'optimizer': torch.optim.Adam,\n",
    "    'optimizer_kwargs': {\n",
    "        # 'momentum': 0.5,\n",
    "        'lr': 0.001,\n",
    "        'weight_decay': 0.0001\n",
    "    },\n",
    "\n",
    "    # Scheduler.\n",
    "    # 'scheduler': torch.optim.lr_scheduler.StepLR,\n",
    "    # 'scheduler_kwargs': {\n",
    "    #     'step_size': 50,\n",
    "    #     'gamma': 0.5\n",
    "    # },\n",
    "\n",
    "    # Loss.\n",
    "    'criterion': torch.nn.CrossEntropyLoss(),\n",
    "\n",
    "    # Plotting.\n",
    "    'fc_matrix_plot_frequency': 50,\n",
    "    'fc_matrix_plot_sublayer': 0\n",
    "}"
   ]
  },
  {
   "cell_type": "code",
   "execution_count": null,
   "metadata": {},
   "outputs": [],
   "source": [
    "# Model parameters settings.\n",
    "model_params = {\n",
    "    'size_in': 90,\n",
    "    'num_hidden_features': 64,\n",
    "    'num_sublayers': 1,\n",
    "    'dropout': 0.5\n",
    "}\n",
    "\n",
    "gin_params = {\n",
    "    'eps': 0.2\n",
    "}\n",
    "\n",
    "dense_params = {\n",
    "    'mode': enums.ConnectivityMode.MULTIPLE,\n",
    "    'num_nodes': 90,\n",
    "    'connectivity_dropout': 0.0,\n",
    "    'readout': 'add',\n",
    "    'emb_dropout': 0.0,\n",
    "    'emb_residual': \"add\",\n",
    "    'emb_init_weights': \"constant\",\n",
    "    'emb_val': 0.0,\n",
    "    'emb_std': 0.01,\n",
    "}"
   ]
  },
  {
   "cell_type": "code",
   "execution_count": null,
   "metadata": {},
   "outputs": [],
   "source": [
    "dataframe_with_subjects = \"patients-cleaned.csv\"\n",
    "target_column = \"target\"\n",
    "\n",
    "df = pd.read_csv(\n",
    "    os.path.join(os.path.normpath(\"../data\"), dataframe_with_subjects),\n",
    "    index_col=0,\n",
    ")\n",
    "targets = df[target_column].values\n"
   ]
  },
  {
   "cell_type": "code",
   "execution_count": null,
   "metadata": {},
   "outputs": [],
   "source": [
    "reload(dataset)\n",
    "reload(gin)\n",
    "reload(dense)\n",
    "reload(evaluation)\n",
    "reload(training)\n",
    "reload(data_utils)"
   ]
  },
  {
   "cell_type": "code",
   "execution_count": null,
   "metadata": {},
   "outputs": [],
   "source": [
    "i = 6"
   ]
  },
  {
   "cell_type": "code",
   "execution_count": null,
   "metadata": {},
   "outputs": [],
   "source": [
    "experiment_folder = os.path.join(os.path.normpath(\"../runs\"), f\"test_fc_{i}\")\n",
    "\n",
    "try:\n",
    "    os.makedirs(experiment_folder, exist_ok=False)\n",
    "except FileExistsError as e:\n",
    "    raise ValueError(\n",
    "        f\"Run experiment with existing name ({experiment_folder}).\"\n",
    "    ) from e\n",
    "\n",
    "i += 1\n",
    "general_utils.close_all_loggers()"
   ]
  },
  {
   "cell_type": "code",
   "execution_count": null,
   "metadata": {},
   "outputs": [],
   "source": [
    "# Init cross-validation.\n",
    "cv = data_utils.StratifiedCrossValidation(\n",
    "    experiment_folder, targets=targets, num_assess_folds=2, num_select_folds=10\n",
    ")\n",
    "\n",
    "\n",
    "for outter_id in cv.outter_cross_validation():\n",
    "    # Model selection.\n",
    "    # Save results for each hyperparameter selection and keep best.\n",
    "    experiment_results = []\n",
    "    best_hyperparameters = None\n",
    "    best_mean_accuracy = 0\n",
    "    best_std_accuracy = 0\n",
    "\n",
    "    for hyper_id, hyperparameters in enumerate([1, 2, 3]):\n",
    "        # TODO: Put hyperparameters in folder name.\n",
    "        log_folder = os.path.join(experiment_folder, f\"{outter_id:03d}\", f\"{hyper_id:03d}_BAF\")\n",
    "\n",
    "        model, data, trainer = training.init_geometric_traning(\n",
    "            log_folder, device, hyperparameters, targets\n",
    "        )\n",
    "\n",
    "        # Run training.\n",
    "        train_dataset = \"train\"\n",
    "        eval_dataset = \"val\"\n",
    "        for inner_id in cv.inner_cross_validation():\n",
    "            trainer.train(\n",
    "                model=model,\n",
    "                named_trainloader=(\n",
    "                    train_dataset,\n",
    "                    data.geometric_loader(\n",
    "                        dataset=train_dataset, indices=cv.train_indices\n",
    "                    ),\n",
    "                ),\n",
    "                named_evalloader=(\n",
    "                    eval_dataset,\n",
    "                    data.geometric_loader(\n",
    "                        dataset=eval_dataset, indices=cv.val_indices\n",
    "                    ),\n",
    "                ),\n",
    "                fold=inner_id,\n",
    "            )\n",
    "\n",
    "        # Results.\n",
    "        train_results, eval_results = trainer.get_results(\n",
    "            train_dataset=train_dataset, eval_dataset=eval_dataset\n",
    "        )\n",
    "        experiment_results.append(\n",
    "            {\n",
    "                train_dataset: train_results,\n",
    "                eval_dataset: eval_results,\n",
    "                \"hyperparameters\": hyperparameters,\n",
    "            }\n",
    "        )\n",
    "        # Update best setting based on eval accuracy\n",
    "        max_index = np.argmax(\n",
    "            eval_results[\"accuracy\"][0] - eval_results[\"accuracy\"][1]\n",
    "        )\n",
    "        max_mean_accuracy = eval_results[\"accuracy\"][0][max_index]\n",
    "        max_std_accuracy = eval_results[\"accuracy\"][1][max_index]\n",
    "\n",
    "        if (max_mean_accuracy - max_std_accuracy) > (\n",
    "            best_mean_accuracy - best_std_accuracy\n",
    "        ):\n",
    "            hyperparameters[\"epochs\"] = max_index + 1\n",
    "            best_hyperparameters = hyperparameters\n",
    "            best_mean_accuracy = max_mean_accuracy\n",
    "            best_std_accuracy = max_std_accuracy\n",
    "\n",
    "    # Model assessment.\n",
    "    # Average over 3 runs to offset random initialization.\n",
    "    for test_id in range(3):\n",
    "        log_folder = os.path.join(experiment_folder, f\"{outter_id:03d}\", f\"test_{test_id}\")\n",
    "        model, data, trainer = training.init_geometric_traning(\n",
    "            log_folder, device, best_hyperparameters, targets\n",
    "        )\n",
    "        # Run training.\n",
    "        train_dataset = \"dev\"\n",
    "        eval_dataset = \"test\"\n",
    "        trainer.train(\n",
    "            model=model,\n",
    "            named_trainloader=(\n",
    "                train_dataset,\n",
    "                data.geometric_loader(\n",
    "                    dataset=train_dataset, indices=cv.dev_indices\n",
    "                ),\n",
    "            ),\n",
    "            named_evalloader=(\n",
    "                eval_dataset,\n",
    "                data.geometric_loader(\n",
    "                    dataset=eval_dataset, indices=cv.test_indices\n",
    "                ),\n",
    "            ),\n",
    "            fold=f\"test_{test_id}\",\n",
    "        )\n",
    "        # Results.\n",
    "        train_results, eval_results = trainer.get_results(\n",
    "            train_dataset=train_dataset, eval_dataset=eval_dataset\n",
    "        )\n",
    "\n",
    "general_utils.close_all_loggers()\n",
    "print(\"Finished training\")\n"
   ]
  },
  {
   "cell_type": "code",
   "execution_count": null,
   "metadata": {},
   "outputs": [],
   "source": [
    "train_results"
   ]
  },
  {
   "cell_type": "code",
   "execution_count": null,
   "metadata": {},
   "outputs": [],
   "source": [
    "eval_results"
   ]
  },
  {
   "cell_type": "code",
   "execution_count": null,
   "metadata": {},
   "outputs": [],
   "source": [
    "general_utils.close_all_loggers"
   ]
  }
 ],
 "metadata": {
  "interpreter": {
   "hash": "9c40931cbb4a31228df7bc840fc8745c5509fc7c9b0d60dae36a005e5fe0dba9"
  },
  "kernelspec": {
   "display_name": "Python 3.7.6 64-bit ('.venv': venv)",
   "name": "python3"
  },
  "language_info": {
   "codemirror_mode": {
    "name": "ipython",
    "version": 3
   },
   "file_extension": ".py",
   "mimetype": "text/x-python",
   "name": "python",
   "nbconvert_exporter": "python",
   "pygments_lexer": "ipython3",
   "version": "3.7.6"
  },
  "orig_nbformat": 2
 },
 "nbformat": 4,
 "nbformat_minor": 2
}
