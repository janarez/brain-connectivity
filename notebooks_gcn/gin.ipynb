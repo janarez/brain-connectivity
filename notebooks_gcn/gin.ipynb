{
 "metadata": {
  "language_info": {
   "codemirror_mode": {
    "name": "ipython",
    "version": 3
   },
   "file_extension": ".py",
   "mimetype": "text/x-python",
   "name": "python",
   "nbconvert_exporter": "python",
   "pygments_lexer": "ipython3",
   "version": "3.7.6"
  },
  "orig_nbformat": 2,
  "kernelspec": {
   "name": "python3",
   "display_name": "Python 3.7.6 64-bit ('.venv': venv)"
  },
  "interpreter": {
   "hash": "9c40931cbb4a31228df7bc840fc8745c5509fc7c9b0d60dae36a005e5fe0dba9"
  }
 },
 "nbformat": 4,
 "nbformat_minor": 2,
 "cells": [
  {
   "source": [
    "# Graph Isomorphism Network"
   ],
   "cell_type": "markdown",
   "metadata": {}
  },
  {
   "cell_type": "code",
   "execution_count": 1,
   "metadata": {},
   "outputs": [],
   "source": [
    "import numpy as np\n",
    "import pickle\n",
    "import pandas as pd \n",
    "import matplotlib.pyplot as plt"
   ]
  },
  {
   "cell_type": "code",
   "execution_count": 180,
   "metadata": {},
   "outputs": [],
   "source": [
    "import torch\n",
    "import torch.nn.functional as F\n",
    "from torch.nn import Linear, ReLU, GELU, Dropout"
   ]
  },
  {
   "cell_type": "code",
   "execution_count": 3,
   "metadata": {},
   "outputs": [],
   "source": [
    "from torch_geometric.nn import GINConv, global_add_pool\n",
    "from torch_geometric.data import Data, DataLoader"
   ]
  },
  {
   "cell_type": "code",
   "execution_count": 4,
   "metadata": {},
   "outputs": [],
   "source": [
    "from torch.utils.tensorboard import SummaryWriter"
   ]
  },
  {
   "cell_type": "code",
   "execution_count": 5,
   "metadata": {},
   "outputs": [],
   "source": [
    "from sklearn.model_selection import StratifiedKFold"
   ]
  },
  {
   "cell_type": "code",
   "execution_count": 176,
   "metadata": {},
   "outputs": [],
   "source": [
    "from torchinfo import summary"
   ]
  },
  {
   "source": [
    "## Load data"
   ],
   "cell_type": "markdown",
   "metadata": {}
  },
  {
   "cell_type": "code",
   "execution_count": 6,
   "metadata": {},
   "outputs": [],
   "source": [
    "DATA_FOLDER = '../data'\n",
    "PICKLE_FOLDER = '../pickles'"
   ]
  },
  {
   "cell_type": "code",
   "execution_count": 7,
   "metadata": {},
   "outputs": [],
   "source": [
    "with open(f'{PICKLE_FOLDER}/timeseries.pickle', 'rb') as f:\n",
    "    ts = pickle.load(f)"
   ]
  },
  {
   "cell_type": "code",
   "execution_count": 8,
   "metadata": {},
   "outputs": [],
   "source": [
    "total_samples, total_brain_regions, ts_length = ts.shape"
   ]
  },
  {
   "cell_type": "code",
   "execution_count": 9,
   "metadata": {},
   "outputs": [],
   "source": [
    "df_metadata = pd.read_csv(f'{DATA_FOLDER}/patients-cleaned.csv', index_col=0)"
   ]
  },
  {
   "cell_type": "code",
   "execution_count": 10,
   "metadata": {},
   "outputs": [
    {
     "output_type": "execute_result",
     "data": {
      "text/plain": [
       "      age  sex  target\n",
       "0  24.750    1       0\n",
       "1  27.667    1       0"
      ],
      "text/html": "<div>\n<style scoped>\n    .dataframe tbody tr th:only-of-type {\n        vertical-align: middle;\n    }\n\n    .dataframe tbody tr th {\n        vertical-align: top;\n    }\n\n    .dataframe thead th {\n        text-align: right;\n    }\n</style>\n<table border=\"1\" class=\"dataframe\">\n  <thead>\n    <tr style=\"text-align: right;\">\n      <th></th>\n      <th>age</th>\n      <th>sex</th>\n      <th>target</th>\n    </tr>\n  </thead>\n  <tbody>\n    <tr>\n      <th>0</th>\n      <td>24.750</td>\n      <td>1</td>\n      <td>0</td>\n    </tr>\n    <tr>\n      <th>1</th>\n      <td>27.667</td>\n      <td>1</td>\n      <td>0</td>\n    </tr>\n  </tbody>\n</table>\n</div>"
     },
     "metadata": {},
     "execution_count": 10
    }
   ],
   "source": [
    "df_metadata.head(2)"
   ]
  },
  {
   "source": [
    "### Select connectivity dataset"
   ],
   "cell_type": "markdown",
   "metadata": {}
  },
  {
   "cell_type": "code",
   "execution_count": 22,
   "metadata": {},
   "outputs": [],
   "source": [
    "THRESHOLD = 0.1                                          # 0.01, 0.05, 0.1, 0.15\n",
    "N = 20 #                                                 # 3, 5, 7, 10, 15, 20, 40\n",
    "CORR_TYPE = 'pearson'                                    # 'pearson', 'spearman', 'partial-pearson'\n",
    "THRESHOLD_METHOD = 'abs-group-avg-diff'                  # 'abs-sample-diff', 'abs-group-avg-diff'\n",
    "THRESHOLD_TYPE = 'min'                                 # 'min', 'max' or for kNN 'small', 'large'\n",
    "KNN = False                                               # Whether all or only top N neigbors are taken"
   ]
  },
  {
   "cell_type": "code",
   "execution_count": 23,
   "metadata": {},
   "outputs": [],
   "source": [
    "fc_folder = f'{PICKLE_FOLDER}/fc-{CORR_TYPE}{\"-knn\" if KNN else \"\"}-{THRESHOLD_METHOD}'"
   ]
  },
  {
   "cell_type": "code",
   "execution_count": 24,
   "metadata": {},
   "outputs": [],
   "source": [
    "fc_file_binary = f'{fc_folder}/{THRESHOLD_TYPE}-{f\"knn-{N}\" if KNN else f\"th-{THRESHOLD}\"}-binary.pickle'\n",
    "fc_file_real = f'{fc_folder}/{THRESHOLD_TYPE}-{f\"knn-{N}\" if KNN else f\"th-{THRESHOLD}\"}-real.pickle'"
   ]
  },
  {
   "cell_type": "code",
   "execution_count": 25,
   "metadata": {},
   "outputs": [],
   "source": [
    "with open(fc_file_binary, 'rb') as f:\n",
    "    edge_index_matrix = pickle.load(f)"
   ]
  },
  {
   "cell_type": "code",
   "execution_count": 26,
   "metadata": {},
   "outputs": [],
   "source": [
    "with open(fc_file_real, 'rb') as f:\n",
    "    fc_matrix = pickle.load(f)"
   ]
  },
  {
   "cell_type": "code",
   "execution_count": 27,
   "metadata": {},
   "outputs": [
    {
     "output_type": "execute_result",
     "data": {
      "text/plain": [
       "(190, 90, 90)"
      ]
     },
     "metadata": {},
     "execution_count": 27
    }
   ],
   "source": [
    "edge_index_matrix.shape"
   ]
  },
  {
   "cell_type": "code",
   "execution_count": 28,
   "metadata": {},
   "outputs": [
    {
     "output_type": "execute_result",
     "data": {
      "text/plain": [
       "(190, 90, 90)"
      ]
     },
     "metadata": {},
     "execution_count": 28
    }
   ],
   "source": [
    "fc_matrix.shape"
   ]
  },
  {
   "source": [
    "## Split data"
   ],
   "cell_type": "markdown",
   "metadata": {}
  },
  {
   "cell_type": "code",
   "execution_count": 29,
   "metadata": {},
   "outputs": [],
   "source": [
    "with open(f'{PICKLE_FOLDER}/test-indices.pickle', 'rb') as f:\n",
    "    test_indices = pickle.load(f)"
   ]
  },
  {
   "cell_type": "code",
   "execution_count": 30,
   "metadata": {},
   "outputs": [],
   "source": [
    "train_indices = list(set(range(total_samples)) - set(test_indices))"
   ]
  },
  {
   "cell_type": "code",
   "execution_count": 31,
   "metadata": {},
   "outputs": [],
   "source": [
    "train_targets = df_metadata.iloc[train_indices][\"target\"].reset_index(drop=True)"
   ]
  },
  {
   "cell_type": "code",
   "execution_count": 32,
   "metadata": {},
   "outputs": [
    {
     "output_type": "stream",
     "name": "stdout",
     "text": [
      "Train set size: 140\nTest set size: 50\n"
     ]
    }
   ],
   "source": [
    "print(f'Train set size: {len(train_indices)}')\n",
    "print(f'Test set size: {len(test_indices)}')"
   ]
  },
  {
   "source": [
    "## Extend dataset"
   ],
   "cell_type": "markdown",
   "metadata": {}
  },
  {
   "cell_type": "code",
   "execution_count": 33,
   "metadata": {},
   "outputs": [],
   "source": [
    "N_SURROGATES = 5                    # 5\n",
    "SURROGATE_METHOD = 'iaaft'          # 'iaaft', 'aaft'"
   ]
  },
  {
   "cell_type": "code",
   "execution_count": 34,
   "metadata": {},
   "outputs": [],
   "source": [
    "with open(f'{PICKLE_FOLDER}/timeseries-{SURROGATE_METHOD}-{N_SURROGATES}.pickle', 'rb') as f:\n",
    "    ts_surrogates = pickle.load(f)"
   ]
  },
  {
   "cell_type": "code",
   "execution_count": 35,
   "metadata": {},
   "outputs": [
    {
     "output_type": "stream",
     "name": "stdout",
     "text": [
      "Extra data: (950, 90, 400)\n5.0 surrogates per sample\n"
     ]
    }
   ],
   "source": [
    "print(f'Extra data: {ts_surrogates.shape}')\n",
    "print(f'{ts_surrogates.shape[0] / total_samples} surrogates per sample')"
   ]
  },
  {
   "source": [
    "Extend only training data. Test set will consist of true data only."
   ],
   "cell_type": "markdown",
   "metadata": {}
  },
  {
   "cell_type": "code",
   "execution_count": 36,
   "metadata": {},
   "outputs": [],
   "source": [
    "ts_train_surrogates = np.concatenate([ts_surrogates[N_SURROGATES*i:N_SURROGATES*i+N_SURROGATES] for i in train_indices], axis=0)"
   ]
  },
  {
   "cell_type": "code",
   "execution_count": 37,
   "metadata": {},
   "outputs": [
    {
     "output_type": "execute_result",
     "data": {
      "text/plain": [
       "(700, 90, 400)"
      ]
     },
     "metadata": {},
     "execution_count": 37
    }
   ],
   "source": [
    "ts_train_surrogates.shape"
   ]
  },
  {
   "source": [
    "## Prepare data"
   ],
   "cell_type": "markdown",
   "metadata": {}
  },
  {
   "cell_type": "code",
   "execution_count": 38,
   "metadata": {},
   "outputs": [
    {
     "output_type": "execute_result",
     "data": {
      "text/plain": [
       "device(type='cuda')"
      ]
     },
     "metadata": {},
     "execution_count": 38
    }
   ],
   "source": [
    "device = torch.device('cuda' if torch.cuda.is_available() else 'cpu')\n",
    "device"
   ]
  },
  {
   "source": [
    "### `Data` object fields\n",
    "\n",
    "- `data.x`: Node feature matrix with shape `[num_nodes, num_node_features]`\n",
    "\n",
    "- `data.edge_index`: Graph connectivity in COO format with shape `[2, num_edges]` and type `torch.long`\n",
    "\n",
    "- `data.edge_attr`: Edge feature matrix with shape `[num_edges, num_edge_features]`\n",
    "\n",
    "- `data.y`: Target to train against (may have arbitrary shape), e.g., node-level targets of shape `[num_nodes, *]` or graph-level targets of shape `[1, *]`\n",
    "\n",
    "- `data.pos`: Node position matrix with shape `[num_nodes, num_dimensions]`"
   ],
   "cell_type": "markdown",
   "metadata": {}
  },
  {
   "source": [
    "### Select node features\n",
    "\n",
    "- onehot\n",
    "- timeseries\n",
    "- correlations"
   ],
   "cell_type": "markdown",
   "metadata": {}
  },
  {
   "cell_type": "code",
   "execution_count": 39,
   "metadata": {},
   "outputs": [],
   "source": [
    "ts_length_start = 50\n",
    "ts_length_end = ts_length\n",
    "\n",
    "# A part of signal serves as node features.\n",
    "def timeseries_in_nodes(i):\n",
    "    return torch.from_numpy(ts[i][:,ts_length_start:ts_length_end]).to(torch.float32)"
   ]
  },
  {
   "cell_type": "code",
   "execution_count": 40,
   "metadata": {},
   "outputs": [],
   "source": [
    "# Each nodes contains its row from FC matrix.\n",
    "def correlations_in_nodes(i):\n",
    "    return torch.from_numpy(fc_matrix[i]).to(torch.float32)"
   ]
  },
  {
   "cell_type": "code",
   "execution_count": 41,
   "metadata": {},
   "outputs": [],
   "source": [
    "# Each brain region is onehot encoded. See GIN for phenotype paper.\n",
    "def onehot_in_nodes(i):\n",
    "    return torch.diag(torch.ones(total_brain_regions))"
   ]
  },
  {
   "cell_type": "code",
   "execution_count": 42,
   "metadata": {},
   "outputs": [],
   "source": [
    "features_in_nodes = correlations_in_nodes\n",
    "num_features_in_nodes = 90          # 90 / 90 / ts_length_end-ts_end_start"
   ]
  },
  {
   "source": [
    "### Create dataset"
   ],
   "cell_type": "markdown",
   "metadata": {}
  },
  {
   "cell_type": "code",
   "execution_count": 43,
   "metadata": {},
   "outputs": [],
   "source": [
    "dataset = [Data(\n",
    "    x=features_in_nodes(i),  \n",
    "    edge_index=torch.from_numpy(np.asarray(np.nonzero(edge_index_matrix[i]))).to(torch.int64),\n",
    "    y=torch.tensor([target], dtype=torch.int64)\n",
    ").to(device) for target, i in zip(train_targets, train_indices)]"
   ]
  },
  {
   "cell_type": "code",
   "execution_count": 44,
   "metadata": {},
   "outputs": [
    {
     "output_type": "stream",
     "name": "stdout",
     "text": [
      "True train data: 140\n"
     ]
    }
   ],
   "source": [
    "print(f'True train data: {len(dataset)}')"
   ]
  },
  {
   "cell_type": "code",
   "execution_count": 45,
   "metadata": {},
   "outputs": [],
   "source": [
    "# Extension.\n",
    "dataset_ext = [Data(\n",
    "    x=features_in_nodes(i),  \n",
    "    edge_index=torch.from_numpy(np.asarray(np.nonzero(edge_index_matrix[i]))).to(torch.int64),\n",
    "    y=torch.tensor([target], dtype=torch.int64)\n",
    ").to(device) for target, i, ts_surr in zip(\n",
    "    np.repeat(train_targets, N_SURROGATES),\n",
    "    np.repeat(train_indices, N_SURROGATES),\n",
    "    ts_train_surrogates\n",
    ")]"
   ]
  },
  {
   "cell_type": "code",
   "execution_count": 46,
   "metadata": {},
   "outputs": [
    {
     "output_type": "stream",
     "name": "stdout",
     "text": [
      "Surrogate train data: 700\n"
     ]
    }
   ],
   "source": [
    "print(f'Surrogate train data: {len(dataset_ext)}')"
   ]
  },
  {
   "source": [
    "### Join surrogates with true data"
   ],
   "cell_type": "markdown",
   "metadata": {}
  },
  {
   "cell_type": "code",
   "execution_count": 47,
   "metadata": {},
   "outputs": [],
   "source": [
    "# dataset.extend(dataset_ext)\n",
    "\n",
    "# train_targets_ext = np.concatenate([train_targets, np.repeat(train_targets, N_SURROGATES)])\n",
    "# train_targets_ext.shape"
   ]
  },
  {
   "cell_type": "code",
   "execution_count": 48,
   "metadata": {},
   "outputs": [
    {
     "output_type": "stream",
     "name": "stdout",
     "text": [
      "Extended train data: 140\n"
     ]
    }
   ],
   "source": [
    "print(f'Extended train data: {len(dataset)}')"
   ]
  },
  {
   "cell_type": "code",
   "execution_count": 49,
   "metadata": {},
   "outputs": [
    {
     "output_type": "stream",
     "name": "stdout",
     "text": [
      "Data object\nEdge index: torch.Size([2, 384])\nNode features: torch.Size([90, 90])\nTarget: torch.Size([1])\n"
     ]
    }
   ],
   "source": [
    "print('Data object')\n",
    "print(f'Edge index: {dataset[0].edge_index.shape}')\n",
    "print(f'Node features: {dataset[0].x.shape}')\n",
    "print(f'Target: {dataset[0].y.shape}')"
   ]
  },
  {
   "source": [
    "## Define model"
   ],
   "cell_type": "markdown",
   "metadata": {}
  },
  {
   "cell_type": "code",
   "execution_count": 466,
   "metadata": {},
   "outputs": [],
   "source": [
    "class MLP(torch.nn.Module):\n",
    "    def __init__(self, in_channels, out_channels, p_dropout):\n",
    "        super(MLP, self).__init__()\n",
    "        torch.manual_seed(42)\n",
    "        \n",
    "        self.fc = Linear(in_channels, out_channels)\n",
    "        self.activation = ReLU()\n",
    "        self.dropout = Dropout(p=p_dropout)\n",
    "        \n",
    "    def forward(self, x):\n",
    "        x = self.activation(self.fc(x))\n",
    "        x = self.dropout(x)\n",
    "        return x"
   ]
  },
  {
   "cell_type": "code",
   "execution_count": 477,
   "metadata": {},
   "outputs": [],
   "source": [
    "class GIN(torch.nn.Module):\n",
    "    \n",
    "    def __init__(self, hidden_channels, eps=0., p_dropout=0.5):\n",
    "        super(GIN, self).__init__()\n",
    "        torch.manual_seed(42)\n",
    "        \n",
    "        self.conv1 = GINConv(MLP(num_features_in_nodes, hidden_channels, p_dropout), eps=eps)\n",
    "        self.conv2 = GINConv(MLP(hidden_channels, hidden_channels, p_dropout), eps=eps)\n",
    "        self.conv3 = GINConv(MLP(hidden_channels, hidden_channels, p_dropout), eps=eps)\n",
    "        # self.conv4 = GINConv(MLP(hidden_channels, hidden_channels, p_dropout), eps=eps)\n",
    "        # self.conv5 = GINConv(MLP(hidden_channels, hidden_channels, p_dropout), eps=eps)\n",
    "\n",
    "        self.fc1 = Linear(num_features_in_nodes + hidden_channels*3, 2)\n",
    "\n",
    "    def forward(self, data):\n",
    "        x, edge_index, batch = data.x, data.edge_index, data.batch\n",
    "\n",
    "        # 1. Obtain node embeddings\n",
    "        # 2. Remember layer outputs.\n",
    "        out0 = global_add_pool(x, batch)\n",
    "        x = self.conv1(x, edge_index)\n",
    "        out1 = global_add_pool(x, batch)\n",
    "        x = self.conv2(x, edge_index)\n",
    "        out2 = global_add_pool(x, batch)\n",
    "        x = self.conv3(x, edge_index)\n",
    "        out3 = global_add_pool(x, batch)\n",
    "        # x = self.conv4(x, edge_index)\n",
    "        # out4 = global_add_pool(x, batch)\n",
    "        # x = self.conv5(x, edge_index)\n",
    "        # out5 = global_add_pool(x, batch)\n",
    "\n",
    "        # 3. Concatenate itermediate outputs.\n",
    "        x = torch.cat((out0, out1, out2, out3), 1)\n",
    "\n",
    "        # 4. Fully connected for final classification.\n",
    "        x = self.fc1(x)     # CELoss already incorporates `log_softmax`.\n",
    "        \n",
    "        return x"
   ]
  },
  {
   "cell_type": "code",
   "execution_count": 478,
   "metadata": {},
   "outputs": [
    {
     "output_type": "execute_result",
     "data": {
      "text/plain": [
       "GIN(\n",
       "  (conv1): GINConv(nn=MLP(\n",
       "    (fc): Linear(in_features=90, out_features=8, bias=True)\n",
       "    (activation): ReLU()\n",
       "    (dropout): Dropout(p=0.5, inplace=False)\n",
       "  ))\n",
       "  (conv2): GINConv(nn=MLP(\n",
       "    (fc): Linear(in_features=8, out_features=8, bias=True)\n",
       "    (activation): ReLU()\n",
       "    (dropout): Dropout(p=0.5, inplace=False)\n",
       "  ))\n",
       "  (conv3): GINConv(nn=MLP(\n",
       "    (fc): Linear(in_features=8, out_features=8, bias=True)\n",
       "    (activation): ReLU()\n",
       "    (dropout): Dropout(p=0.5, inplace=False)\n",
       "  ))\n",
       "  (fc1): Linear(in_features=114, out_features=2, bias=True)\n",
       ")"
      ]
     },
     "metadata": {},
     "execution_count": 478
    }
   ],
   "source": [
    "# Architecture.\n",
    "GIN(hidden_channels=8)"
   ]
  },
  {
   "source": [
    "## Evaluation"
   ],
   "cell_type": "markdown",
   "metadata": {}
  },
  {
   "cell_type": "code",
   "execution_count": 479,
   "metadata": {},
   "outputs": [],
   "source": [
    "def evaluation_metrics(predicted, labels):\n",
    "    pred_positives = predicted == 1\n",
    "    label_positives = labels == 1\n",
    "\n",
    "    tp = (pred_positives & label_positives).sum().item()\n",
    "    tn = (~pred_positives & ~label_positives).sum().item()\n",
    "    fp = (pred_positives & ~label_positives).sum().item()\n",
    "    fn = (~pred_positives & label_positives).sum().item()\n",
    "\n",
    "    return tp, tn, fp, fn"
   ]
  },
  {
   "source": [
    "## Train model"
   ],
   "cell_type": "markdown",
   "metadata": {}
  },
  {
   "cell_type": "code",
   "execution_count": 480,
   "metadata": {},
   "outputs": [],
   "source": [
    "NUM_FOLDS = 3"
   ]
  },
  {
   "cell_type": "code",
   "execution_count": 481,
   "metadata": {},
   "outputs": [],
   "source": [
    "skf = StratifiedKFold(n_splits=NUM_FOLDS, random_state=42, shuffle=True)"
   ]
  },
  {
   "cell_type": "code",
   "execution_count": 482,
   "metadata": {},
   "outputs": [],
   "source": [
    "# Settings.\n",
    "EPOCHS = 200\n",
    "LR = 0.001\n",
    "MOMENTUM = 0.5\n",
    "OPTIMIZER = 'adam'\n",
    "LOSS = 'ce'\n",
    "BATCH_SIZE = 2\n",
    "\n",
    "VALIDATE_FREQ = 10\n",
    "\n",
    "HIDDEN_CHANNELS = 128\n",
    "EPS = 0.2\n",
    "DROPOUT = 0.3\n",
    "\n",
    "STEP_SIZE = 50\n",
    "GAMMA = 0.5\n",
    "\n",
    "WEIGHT_DECAY = 0.0001\n",
    "\n",
    "settings_str = f'bs={BATCH_SIZE},e={EPOCHS},lr={LR},mom={MOMENTUM},opt={OPTIMIZER},loss={LOSS},step={STEP_SIZE},gamma={GAMMA},wd={WEIGHT_DECAY},eps={EPS},dropout={DROPOUT}'"
   ]
  },
  {
   "cell_type": "code",
   "execution_count": 483,
   "metadata": {},
   "outputs": [],
   "source": [
    "lr_lambda = lambda e: 0.01 if e < 200 else (0.001 if e < 300 else 0.0001)"
   ]
  },
  {
   "cell_type": "code",
   "execution_count": 484,
   "metadata": {},
   "outputs": [],
   "source": [
    "# Experiment folder.\n",
    "EXP_FOLDER = 'runs/gin'"
   ]
  },
  {
   "cell_type": "code",
   "execution_count": 485,
   "metadata": {},
   "outputs": [],
   "source": [
    "# Experiment.\n",
    "EXP_ID = 39"
   ]
  },
  {
   "cell_type": "code",
   "execution_count": 486,
   "metadata": {},
   "outputs": [
    {
     "output_type": "error",
     "ename": "KeyboardInterrupt",
     "evalue": "",
     "traceback": [
      "\u001b[1;31m---------------------------------------------------------------------------\u001b[0m",
      "\u001b[1;31mKeyboardInterrupt\u001b[0m                         Traceback (most recent call last)",
      "\u001b[1;32m<ipython-input-486-48ebdbb2b313>\u001b[0m in \u001b[0;36m<module>\u001b[1;34m\u001b[0m\n\u001b[0;32m     58\u001b[0m             \u001b[0moutputs\u001b[0m \u001b[1;33m=\u001b[0m \u001b[0mnet\u001b[0m\u001b[1;33m(\u001b[0m\u001b[0mdata\u001b[0m\u001b[1;33m)\u001b[0m\u001b[1;33m\u001b[0m\u001b[1;33m\u001b[0m\u001b[0m\n\u001b[0;32m     59\u001b[0m             \u001b[0mloss\u001b[0m \u001b[1;33m=\u001b[0m \u001b[0mcriterion\u001b[0m\u001b[1;33m(\u001b[0m\u001b[0moutputs\u001b[0m\u001b[1;33m,\u001b[0m \u001b[0mdata\u001b[0m\u001b[1;33m.\u001b[0m\u001b[0my\u001b[0m\u001b[1;33m)\u001b[0m  \u001b[1;31m# Compute the loss.\u001b[0m\u001b[1;33m\u001b[0m\u001b[1;33m\u001b[0m\u001b[0m\n\u001b[1;32m---> 60\u001b[1;33m             \u001b[0mrunning_loss\u001b[0m \u001b[1;33m+=\u001b[0m \u001b[0mloss\u001b[0m\u001b[1;33m.\u001b[0m\u001b[0mitem\u001b[0m\u001b[1;33m(\u001b[0m\u001b[1;33m)\u001b[0m\u001b[1;33m\u001b[0m\u001b[1;33m\u001b[0m\u001b[0m\n\u001b[0m\u001b[0;32m     61\u001b[0m \u001b[1;33m\u001b[0m\u001b[0m\n\u001b[0;32m     62\u001b[0m             \u001b[1;32mif\u001b[0m \u001b[1;33m(\u001b[0m\u001b[0mepoch\u001b[0m\u001b[1;33m+\u001b[0m\u001b[1;36m1\u001b[0m\u001b[1;33m)\u001b[0m \u001b[1;33m%\u001b[0m \u001b[0mVALIDATE_FREQ\u001b[0m \u001b[1;33m==\u001b[0m \u001b[1;36m0\u001b[0m\u001b[1;33m:\u001b[0m\u001b[1;33m\u001b[0m\u001b[1;33m\u001b[0m\u001b[0m\n",
      "\u001b[1;31mKeyboardInterrupt\u001b[0m: "
     ]
    }
   ],
   "source": [
    "for kfold, (train_index, val_index) in enumerate(skf.split(np.zeros(len(train_targets)), train_targets)):\n",
    "\n",
    "    # Init TB writer.\n",
    "    experiment_str = f'id={EXP_ID:03d},fold={kfold},{settings_str}'\n",
    "    writer = SummaryWriter(f\"../{EXP_FOLDER}/{experiment_str}\")\n",
    "\n",
    "    # Init model.\n",
    "    net = GIN(hidden_channels=HIDDEN_CHANNELS, eps=EPS, p_dropout=DROPOUT).to(device)\n",
    "    optimizr = torch.optim.Adam(net.parameters(), lr=LR, weight_decay=WEIGHT_DECAY)\n",
    "    criterion = torch.nn.CrossEntropyLoss()\n",
    "    #scheduler = torch.optim.lr_scheduler.StepLR(optimizr, step_size=STEP_SIZE, gamma=GAMMA)\n",
    "    #scheduler = torch.optim.lr_scheduler.LambdaLR(optimizr, lr_lambda)\n",
    "\n",
    "    # Save architecture.\n",
    "    with open(f\"../{EXP_FOLDER}/{experiment_str}/architecture\", 'w', encoding=\"utf-8\") as f:\n",
    "        f.write(fc_folder + '\\n')\n",
    "        f.write(fc_file_binary + '\\n')\n",
    "        f.write(fc_file_real + '\\n')\n",
    "        f.write('\\n'.join(experiment_str.split(',')) + '\\n\\n')\n",
    "        f.write(net.__str__() + '\\n\\n')\n",
    "        f.write(str(summary(net)))\n",
    "\n",
    "    # Prepare data.\n",
    "    X_train = [dataset[i] for i in train_index]\n",
    "    X_val = [dataset[i] for i in val_index]\n",
    "    \n",
    "    trainloader = DataLoader(X_train, batch_size=BATCH_SIZE, shuffle=True)\n",
    "    valloader = DataLoader(X_val, batch_size=BATCH_SIZE, shuffle=False)\n",
    "\n",
    "    # Train.\n",
    "    for epoch in range(EPOCHS):\n",
    "        running_loss = 0.\n",
    "        \n",
    "        net.train()\n",
    "        for data in trainloader:\n",
    "            \n",
    "            optimizr.zero_grad()\n",
    "            outputs = net(data)   \n",
    "            loss = criterion(outputs, data.y)  # Compute the loss.\n",
    "            loss.backward()  # Derive gradients.\n",
    "            optimizr.step()\n",
    "            running_loss += loss.item()\n",
    "\n",
    "        #scheduler.step()    # Update LR.\n",
    "        epoch_loss = running_loss / len(trainloader)\n",
    "        writer.add_scalar('training loss', epoch_loss, epoch)\n",
    "\n",
    "        running_loss = 0.\n",
    "\n",
    "        # Evaluate epoch.\n",
    "        tp, tn, fp, fn = 0, 0, 0, 0\n",
    "        total = 0\n",
    "\n",
    "        net.eval()\n",
    "        for data in valloader:\n",
    "\n",
    "            optimizr.zero_grad()\n",
    "            outputs = net(data) \n",
    "            loss = criterion(outputs, data.y)  # Compute the loss.\n",
    "            running_loss += loss.item()\n",
    "\n",
    "            if (epoch+1) % VALIDATE_FREQ == 0:\n",
    "                predicted = outputs.argmax(dim=1)\n",
    "                labels = data.y.view(-1)\n",
    "\n",
    "                # Update.\n",
    "                tp_, tn_, fp_, fn_ = evaluation_metrics(predicted, labels)\n",
    "                tp += tp_; tn += tn_; fp += fp_; fn += fn_\n",
    "                total += data.y.size(0)\n",
    "\n",
    "        epoch_loss = running_loss / len(valloader)\n",
    "        writer.add_scalar('validation loss', epoch_loss, epoch)\n",
    "        \n",
    "        if (epoch+1) % VALIDATE_FREQ == 0:\n",
    "            writer.add_scalar('validation accuracy', (tp + tn) / total, epoch)\n",
    "            writer.add_scalar('validation precision', tp / (tp + fp) if (tp + fp) > 0 else 0, epoch)\n",
    "            writer.add_scalar('validation recall', tp / (tp + fn), epoch)\n",
    "    \n",
    "    # Single fold during exploration.\n",
    "    #break\n",
    "\n",
    "print('Finished training')"
   ]
  },
  {
   "cell_type": "code",
   "execution_count": null,
   "metadata": {},
   "outputs": [],
   "source": [
    "print(features_in_nodes)"
   ]
  }
 ]
}