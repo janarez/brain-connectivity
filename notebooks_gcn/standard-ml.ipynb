{
 "cells": [
  {
   "source": [
    "# Standard Machine Learning methods\n",
    "\n",
    "Here, we examine the performance of standard machine learning methods from the `scikit-learn` toolkit on our dataset of functional connectivities only.\n",
    "\n",
    "The goal is to examine performance on these shallow methods to get a set of baseline results."
   ],
   "cell_type": "markdown",
   "metadata": {}
  },
  {
   "cell_type": "code",
   "execution_count": 16,
   "metadata": {},
   "outputs": [],
   "source": [
    "import pandas as pd\n",
    "import numpy as np\n",
    "import pickle"
   ]
  },
  {
   "cell_type": "code",
   "execution_count": 21,
   "metadata": {},
   "outputs": [],
   "source": [
    "from sklearn.naive_bayes import GaussianNB\n",
    "from sklearn.metrics import confusion_matrix\n",
    "from sklearn.ensemble import RandomForestClassifier\n",
    "from sklearn.model_selection import GridSearchCV\n",
    "from sklearn.svm import SVC\n",
    "from sklearn.linear_model import SGDClassifier\n",
    "from sklearn.neighbors import KNeighborsClassifier"
   ]
  },
  {
   "source": [
    "## Load data"
   ],
   "cell_type": "markdown",
   "metadata": {}
  },
  {
   "cell_type": "code",
   "execution_count": 3,
   "metadata": {},
   "outputs": [],
   "source": [
    "DATA_FOLDER = '../data'\n",
    "PICKLE_FOLDER = '../pickles'"
   ]
  },
  {
   "cell_type": "code",
   "execution_count": 6,
   "metadata": {},
   "outputs": [],
   "source": [
    "with open(f'{PICKLE_FOLDER}/fc-pearson.pickle', 'rb') as f:\n",
    "    fc_pearson = pickle.load(f)"
   ]
  },
  {
   "cell_type": "code",
   "execution_count": 7,
   "metadata": {},
   "outputs": [],
   "source": [
    "with open(f'{PICKLE_FOLDER}/fc-spearman.pickle', 'rb') as f:\n",
    "    fc_spearman = pickle.load(f)"
   ]
  },
  {
   "cell_type": "code",
   "execution_count": 20,
   "metadata": {},
   "outputs": [],
   "source": [
    "with open(f'{PICKLE_FOLDER}/fc-partial-pearson.pickle', 'rb') as f:\n",
    "    fc_partial_pearson = pickle.load(f)"
   ]
  },
  {
   "cell_type": "code",
   "execution_count": 18,
   "metadata": {},
   "outputs": [
    {
     "output_type": "stream",
     "name": "stdout",
     "text": [
      "Subjects: 190\nBrain regions: 90\n"
     ]
    }
   ],
   "source": [
    "total_samples, total_brain_regions, _ = fc_pearson.shape\n",
    "\n",
    "print(f'Subjects: {total_samples}')\n",
    "print(f'Brain regions: {total_brain_regions}')"
   ]
  },
  {
   "cell_type": "code",
   "execution_count": 9,
   "metadata": {},
   "outputs": [],
   "source": [
    "df_metadata = pd.read_csv(f'{DATA_FOLDER}/patients-cleaned.csv', index_col=0)"
   ]
  },
  {
   "cell_type": "code",
   "execution_count": 10,
   "metadata": {},
   "outputs": [
    {
     "output_type": "execute_result",
     "data": {
      "text/plain": [
       "      age  sex  target\n",
       "0  24.750    1       0\n",
       "1  27.667    1       0\n",
       "2  34.167    1       0"
      ],
      "text/html": "<div>\n<style scoped>\n    .dataframe tbody tr th:only-of-type {\n        vertical-align: middle;\n    }\n\n    .dataframe tbody tr th {\n        vertical-align: top;\n    }\n\n    .dataframe thead th {\n        text-align: right;\n    }\n</style>\n<table border=\"1\" class=\"dataframe\">\n  <thead>\n    <tr style=\"text-align: right;\">\n      <th></th>\n      <th>age</th>\n      <th>sex</th>\n      <th>target</th>\n    </tr>\n  </thead>\n  <tbody>\n    <tr>\n      <th>0</th>\n      <td>24.750</td>\n      <td>1</td>\n      <td>0</td>\n    </tr>\n    <tr>\n      <th>1</th>\n      <td>27.667</td>\n      <td>1</td>\n      <td>0</td>\n    </tr>\n    <tr>\n      <th>2</th>\n      <td>34.167</td>\n      <td>1</td>\n      <td>0</td>\n    </tr>\n  </tbody>\n</table>\n</div>"
     },
     "metadata": {},
     "execution_count": 10
    }
   ],
   "source": [
    "df_metadata.head(3)"
   ]
  },
  {
   "source": [
    "## Split data"
   ],
   "cell_type": "markdown",
   "metadata": {}
  },
  {
   "cell_type": "code",
   "execution_count": 11,
   "metadata": {},
   "outputs": [],
   "source": [
    "with open(f'{PICKLE_FOLDER}/test-indices.pickle', 'rb') as f:\n",
    "    test_indices = pickle.load(f)"
   ]
  },
  {
   "cell_type": "code",
   "execution_count": 13,
   "metadata": {},
   "outputs": [],
   "source": [
    "# Select dataset.\n",
    "fc = fc_pearson.copy()"
   ]
  },
  {
   "cell_type": "code",
   "execution_count": 14,
   "metadata": {},
   "outputs": [],
   "source": [
    "X_test = fc[test_indices]\n",
    "y_test = df_metadata.iloc[test_indices][\"target\"].reset_index(drop=True)"
   ]
  },
  {
   "cell_type": "code",
   "execution_count": 19,
   "metadata": {},
   "outputs": [],
   "source": [
    "train_indices = ~np.isin(np.arange(total_samples), test_indices)\n",
    "X_train = fc[train_indices]\n",
    "y_train = df_metadata.iloc[train_indices][\"target\"].reset_index(drop=True)"
   ]
  },
  {
   "cell_type": "code",
   "execution_count": 34,
   "metadata": {},
   "outputs": [],
   "source": [
    "# Flatten FC matrices for ML models.\n",
    "X_test = np.reshape(X_test, (-1, total_brain_regions * total_brain_regions))\n",
    "X_train = np.reshape(X_train, (-1, total_brain_regions * total_brain_regions))"
   ]
  },
  {
   "source": [
    "## Metrics"
   ],
   "cell_type": "markdown",
   "metadata": {}
  },
  {
   "cell_type": "code",
   "execution_count": 24,
   "metadata": {},
   "outputs": [],
   "source": [
    "def confusion_matrix_custom(y_true, y_pred):\n",
    "    tn, fp, fn, tp = confusion_matrix(y_true, y_pred).ravel()\n",
    "    print(f\"Accuracy: {(tp+tn)/(fn+tp+tn+fp):.2f}\")\n",
    "    print(f\"Recall: {tp}/{fn+tp} ({tp/(fn+tp):.2f})\")\n",
    "    print(f\"Precision: {tp}/{tp+fp} ({tp/(tp+fp):.2f})\")\n",
    "    print()"
   ]
  },
  {
   "source": [
    "## Training"
   ],
   "cell_type": "markdown",
   "metadata": {}
  },
  {
   "cell_type": "code",
   "execution_count": 37,
   "metadata": {},
   "outputs": [],
   "source": [
    "# Cross validation using 7 folds: 140 = 120 + 20.\n",
    "# Per `GridSearchCV` documentation `StratifiedKFold` is used to get balanced folds.\n",
    "NUM_FOLDS = 7\n",
    "grid_kwargs = {\"cv\": NUM_FOLDS, \"n_jobs\": -1}"
   ]
  },
  {
   "cell_type": "code",
   "execution_count": 57,
   "metadata": {},
   "outputs": [],
   "source": [
    "def cross_validate(estimator, estimator_params, grid_kwargs=grid_kwargs):\n",
    "    \"\"\"\n",
    "    Performs cross-validation using train dataset on estimator.\n",
    "    Optionally takes grid search settings.\n",
    "    \"\"\"\n",
    "    grid = GridSearchCV(estimator, estimator_params, **grid_kwargs)\n",
    "    grid.fit(X_train, y_train)\n",
    "    results = pd.DataFrame(grid.cv_results_)\n",
    "    y_pred = grid.best_estimator_.predict(X_train)\n",
    "    confusion_matrix_custom(y_train.values, y_pred)\n",
    "\n",
    "    cv_params = [\"params\", \"mean_test_score\", \"std_test_score\"] + [f\"split{i}_test_score\" for i in range(NUM_FOLDS)]\n",
    "\n",
    "    return results.sort_values(by=['rank_test_score'])[cv_params]"
   ]
  },
  {
   "cell_type": "code",
   "execution_count": 62,
   "metadata": {},
   "outputs": [],
   "source": [
    "# Ensure we see the full `params` field.\n",
    "pd.options.display.max_colwidth = 200"
   ]
  },
  {
   "source": [
    "## ML Models\n",
    "- KNN\n",
    "- Naive Bayes\n",
    "- Random Forest\n",
    "- SVC\n",
    "- Elastic Net based logistic regression"
   ],
   "cell_type": "markdown",
   "metadata": {}
  },
  {
   "cell_type": "code",
   "execution_count": 58,
   "metadata": {},
   "outputs": [
    {
     "output_type": "stream",
     "name": "stdout",
     "text": [
      "Accuracy: 1.00\nRecall: 75/75 (1.00)\nPrecision: 75/75 (1.00)\n\n"
     ]
    },
    {
     "output_type": "execute_result",
     "data": {
      "text/plain": [
       "                                               params  mean_test_score  \\\n",
       "0    {'n_neighbors': 1, 'p': 1, 'weights': 'uniform'}         0.714286   \n",
       "1   {'n_neighbors': 1, 'p': 1, 'weights': 'distance'}         0.714286   \n",
       "5   {'n_neighbors': 2, 'p': 1, 'weights': 'distance'}         0.714286   \n",
       "10   {'n_neighbors': 3, 'p': 2, 'weights': 'uniform'}         0.714286   \n",
       "11  {'n_neighbors': 3, 'p': 2, 'weights': 'distance'}         0.714286   \n",
       "8    {'n_neighbors': 3, 'p': 1, 'weights': 'uniform'}         0.707143   \n",
       "9   {'n_neighbors': 3, 'p': 1, 'weights': 'distance'}         0.707143   \n",
       "2    {'n_neighbors': 1, 'p': 2, 'weights': 'uniform'}         0.700000   \n",
       "3   {'n_neighbors': 1, 'p': 2, 'weights': 'distance'}         0.700000   \n",
       "19  {'n_neighbors': 5, 'p': 2, 'weights': 'distance'}         0.700000   \n",
       "18   {'n_neighbors': 5, 'p': 2, 'weights': 'uniform'}         0.700000   \n",
       "7   {'n_neighbors': 2, 'p': 2, 'weights': 'distance'}         0.700000   \n",
       "15  {'n_neighbors': 4, 'p': 2, 'weights': 'distance'}         0.700000   \n",
       "17  {'n_neighbors': 5, 'p': 1, 'weights': 'distance'}         0.700000   \n",
       "16   {'n_neighbors': 5, 'p': 1, 'weights': 'uniform'}         0.700000   \n",
       "13  {'n_neighbors': 4, 'p': 1, 'weights': 'distance'}         0.700000   \n",
       "25  {'n_neighbors': 10, 'p': 1, 'weights': 'distan...         0.692857   \n",
       "20   {'n_neighbors': 7, 'p': 1, 'weights': 'uniform'}         0.685714   \n",
       "21  {'n_neighbors': 7, 'p': 1, 'weights': 'distance'}         0.685714   \n",
       "22   {'n_neighbors': 7, 'p': 2, 'weights': 'uniform'}         0.685714   \n",
       "23  {'n_neighbors': 7, 'p': 2, 'weights': 'distance'}         0.685714   \n",
       "27  {'n_neighbors': 10, 'p': 2, 'weights': 'distan...         0.685714   \n",
       "26  {'n_neighbors': 10, 'p': 2, 'weights': 'uniform'}         0.650000   \n",
       "24  {'n_neighbors': 10, 'p': 1, 'weights': 'uniform'}         0.642857   \n",
       "12   {'n_neighbors': 4, 'p': 1, 'weights': 'uniform'}         0.621429   \n",
       "6    {'n_neighbors': 2, 'p': 2, 'weights': 'uniform'}         0.614286   \n",
       "14   {'n_neighbors': 4, 'p': 2, 'weights': 'uniform'}         0.607143   \n",
       "4    {'n_neighbors': 2, 'p': 1, 'weights': 'uniform'}         0.592857   \n",
       "\n",
       "    std_test_score  split0_test_score  split1_test_score  split2_test_score  \\\n",
       "0         0.098974               0.80               0.85               0.65   \n",
       "1         0.098974               0.80               0.85               0.65   \n",
       "5         0.098974               0.80               0.85               0.65   \n",
       "10        0.063888               0.80               0.80               0.70   \n",
       "11        0.063888               0.80               0.80               0.70   \n",
       "8         0.097938               0.80               0.80               0.75   \n",
       "9         0.097938               0.80               0.80               0.75   \n",
       "2         0.088641               0.75               0.85               0.65   \n",
       "3         0.088641               0.75               0.85               0.65   \n",
       "19        0.080178               0.80               0.75               0.65   \n",
       "18        0.080178               0.80               0.75               0.65   \n",
       "7         0.088641               0.75               0.85               0.65   \n",
       "15        0.092582               0.75               0.85               0.65   \n",
       "17        0.046291               0.75               0.70               0.70   \n",
       "16        0.046291               0.75               0.70               0.70   \n",
       "13        0.092582               0.80               0.80               0.75   \n",
       "25        0.077591               0.70               0.65               0.75   \n",
       "20        0.091473               0.75               0.65               0.70   \n",
       "21        0.091473               0.75               0.65               0.70   \n",
       "22        0.087482               0.75               0.65               0.65   \n",
       "23        0.087482               0.75               0.65               0.65   \n",
       "27        0.087482               0.70               0.60               0.70   \n",
       "26        0.075593               0.70               0.60               0.65   \n",
       "24        0.072843               0.70               0.55               0.75   \n",
       "12        0.064681               0.75               0.60               0.65   \n",
       "6         0.105946               0.60               0.85               0.50   \n",
       "14        0.072843               0.75               0.65               0.60   \n",
       "4         0.097938               0.65               0.80               0.55   \n",
       "\n",
       "    split3_test_score  split4_test_score  split5_test_score  split6_test_score  \n",
       "0                0.70               0.55               0.80               0.65  \n",
       "1                0.70               0.55               0.80               0.65  \n",
       "5                0.70               0.55               0.80               0.65  \n",
       "10               0.65               0.65               0.75               0.65  \n",
       "11               0.65               0.65               0.75               0.65  \n",
       "8                0.60               0.65               0.80               0.55  \n",
       "9                0.60               0.65               0.80               0.55  \n",
       "2                0.70               0.55               0.75               0.65  \n",
       "3                0.70               0.55               0.75               0.65  \n",
       "19               0.75               0.55               0.65               0.75  \n",
       "18               0.75               0.55               0.65               0.75  \n",
       "7                0.70               0.55               0.75               0.65  \n",
       "15               0.60               0.60               0.80               0.65  \n",
       "17               0.70               0.60               0.75               0.70  \n",
       "16               0.70               0.60               0.75               0.70  \n",
       "13               0.65               0.55               0.75               0.60  \n",
       "25               0.65               0.55               0.75               0.80  \n",
       "20               0.70               0.55               0.60               0.85  \n",
       "21               0.70               0.55               0.60               0.85  \n",
       "22               0.70               0.55               0.65               0.85  \n",
       "23               0.70               0.55               0.65               0.85  \n",
       "27               0.70               0.55               0.70               0.85  \n",
       "26               0.60               0.55               0.65               0.80  \n",
       "24               0.60               0.55               0.65               0.70  \n",
       "12               0.60               0.55               0.65               0.55  \n",
       "6                0.55               0.65               0.60               0.55  \n",
       "14               0.60               0.50               0.60               0.55  \n",
       "4                0.50               0.50               0.60               0.55  "
      ],
      "text/html": "<div>\n<style scoped>\n    .dataframe tbody tr th:only-of-type {\n        vertical-align: middle;\n    }\n\n    .dataframe tbody tr th {\n        vertical-align: top;\n    }\n\n    .dataframe thead th {\n        text-align: right;\n    }\n</style>\n<table border=\"1\" class=\"dataframe\">\n  <thead>\n    <tr style=\"text-align: right;\">\n      <th></th>\n      <th>params</th>\n      <th>mean_test_score</th>\n      <th>std_test_score</th>\n      <th>split0_test_score</th>\n      <th>split1_test_score</th>\n      <th>split2_test_score</th>\n      <th>split3_test_score</th>\n      <th>split4_test_score</th>\n      <th>split5_test_score</th>\n      <th>split6_test_score</th>\n    </tr>\n  </thead>\n  <tbody>\n    <tr>\n      <th>0</th>\n      <td>{'n_neighbors': 1, 'p': 1, 'weights': 'uniform'}</td>\n      <td>0.714286</td>\n      <td>0.098974</td>\n      <td>0.80</td>\n      <td>0.85</td>\n      <td>0.65</td>\n      <td>0.70</td>\n      <td>0.55</td>\n      <td>0.80</td>\n      <td>0.65</td>\n    </tr>\n    <tr>\n      <th>1</th>\n      <td>{'n_neighbors': 1, 'p': 1, 'weights': 'distance'}</td>\n      <td>0.714286</td>\n      <td>0.098974</td>\n      <td>0.80</td>\n      <td>0.85</td>\n      <td>0.65</td>\n      <td>0.70</td>\n      <td>0.55</td>\n      <td>0.80</td>\n      <td>0.65</td>\n    </tr>\n    <tr>\n      <th>5</th>\n      <td>{'n_neighbors': 2, 'p': 1, 'weights': 'distance'}</td>\n      <td>0.714286</td>\n      <td>0.098974</td>\n      <td>0.80</td>\n      <td>0.85</td>\n      <td>0.65</td>\n      <td>0.70</td>\n      <td>0.55</td>\n      <td>0.80</td>\n      <td>0.65</td>\n    </tr>\n    <tr>\n      <th>10</th>\n      <td>{'n_neighbors': 3, 'p': 2, 'weights': 'uniform'}</td>\n      <td>0.714286</td>\n      <td>0.063888</td>\n      <td>0.80</td>\n      <td>0.80</td>\n      <td>0.70</td>\n      <td>0.65</td>\n      <td>0.65</td>\n      <td>0.75</td>\n      <td>0.65</td>\n    </tr>\n    <tr>\n      <th>11</th>\n      <td>{'n_neighbors': 3, 'p': 2, 'weights': 'distance'}</td>\n      <td>0.714286</td>\n      <td>0.063888</td>\n      <td>0.80</td>\n      <td>0.80</td>\n      <td>0.70</td>\n      <td>0.65</td>\n      <td>0.65</td>\n      <td>0.75</td>\n      <td>0.65</td>\n    </tr>\n    <tr>\n      <th>8</th>\n      <td>{'n_neighbors': 3, 'p': 1, 'weights': 'uniform'}</td>\n      <td>0.707143</td>\n      <td>0.097938</td>\n      <td>0.80</td>\n      <td>0.80</td>\n      <td>0.75</td>\n      <td>0.60</td>\n      <td>0.65</td>\n      <td>0.80</td>\n      <td>0.55</td>\n    </tr>\n    <tr>\n      <th>9</th>\n      <td>{'n_neighbors': 3, 'p': 1, 'weights': 'distance'}</td>\n      <td>0.707143</td>\n      <td>0.097938</td>\n      <td>0.80</td>\n      <td>0.80</td>\n      <td>0.75</td>\n      <td>0.60</td>\n      <td>0.65</td>\n      <td>0.80</td>\n      <td>0.55</td>\n    </tr>\n    <tr>\n      <th>2</th>\n      <td>{'n_neighbors': 1, 'p': 2, 'weights': 'uniform'}</td>\n      <td>0.700000</td>\n      <td>0.088641</td>\n      <td>0.75</td>\n      <td>0.85</td>\n      <td>0.65</td>\n      <td>0.70</td>\n      <td>0.55</td>\n      <td>0.75</td>\n      <td>0.65</td>\n    </tr>\n    <tr>\n      <th>3</th>\n      <td>{'n_neighbors': 1, 'p': 2, 'weights': 'distance'}</td>\n      <td>0.700000</td>\n      <td>0.088641</td>\n      <td>0.75</td>\n      <td>0.85</td>\n      <td>0.65</td>\n      <td>0.70</td>\n      <td>0.55</td>\n      <td>0.75</td>\n      <td>0.65</td>\n    </tr>\n    <tr>\n      <th>19</th>\n      <td>{'n_neighbors': 5, 'p': 2, 'weights': 'distance'}</td>\n      <td>0.700000</td>\n      <td>0.080178</td>\n      <td>0.80</td>\n      <td>0.75</td>\n      <td>0.65</td>\n      <td>0.75</td>\n      <td>0.55</td>\n      <td>0.65</td>\n      <td>0.75</td>\n    </tr>\n    <tr>\n      <th>18</th>\n      <td>{'n_neighbors': 5, 'p': 2, 'weights': 'uniform'}</td>\n      <td>0.700000</td>\n      <td>0.080178</td>\n      <td>0.80</td>\n      <td>0.75</td>\n      <td>0.65</td>\n      <td>0.75</td>\n      <td>0.55</td>\n      <td>0.65</td>\n      <td>0.75</td>\n    </tr>\n    <tr>\n      <th>7</th>\n      <td>{'n_neighbors': 2, 'p': 2, 'weights': 'distance'}</td>\n      <td>0.700000</td>\n      <td>0.088641</td>\n      <td>0.75</td>\n      <td>0.85</td>\n      <td>0.65</td>\n      <td>0.70</td>\n      <td>0.55</td>\n      <td>0.75</td>\n      <td>0.65</td>\n    </tr>\n    <tr>\n      <th>15</th>\n      <td>{'n_neighbors': 4, 'p': 2, 'weights': 'distance'}</td>\n      <td>0.700000</td>\n      <td>0.092582</td>\n      <td>0.75</td>\n      <td>0.85</td>\n      <td>0.65</td>\n      <td>0.60</td>\n      <td>0.60</td>\n      <td>0.80</td>\n      <td>0.65</td>\n    </tr>\n    <tr>\n      <th>17</th>\n      <td>{'n_neighbors': 5, 'p': 1, 'weights': 'distance'}</td>\n      <td>0.700000</td>\n      <td>0.046291</td>\n      <td>0.75</td>\n      <td>0.70</td>\n      <td>0.70</td>\n      <td>0.70</td>\n      <td>0.60</td>\n      <td>0.75</td>\n      <td>0.70</td>\n    </tr>\n    <tr>\n      <th>16</th>\n      <td>{'n_neighbors': 5, 'p': 1, 'weights': 'uniform'}</td>\n      <td>0.700000</td>\n      <td>0.046291</td>\n      <td>0.75</td>\n      <td>0.70</td>\n      <td>0.70</td>\n      <td>0.70</td>\n      <td>0.60</td>\n      <td>0.75</td>\n      <td>0.70</td>\n    </tr>\n    <tr>\n      <th>13</th>\n      <td>{'n_neighbors': 4, 'p': 1, 'weights': 'distance'}</td>\n      <td>0.700000</td>\n      <td>0.092582</td>\n      <td>0.80</td>\n      <td>0.80</td>\n      <td>0.75</td>\n      <td>0.65</td>\n      <td>0.55</td>\n      <td>0.75</td>\n      <td>0.60</td>\n    </tr>\n    <tr>\n      <th>25</th>\n      <td>{'n_neighbors': 10, 'p': 1, 'weights': 'distan...</td>\n      <td>0.692857</td>\n      <td>0.077591</td>\n      <td>0.70</td>\n      <td>0.65</td>\n      <td>0.75</td>\n      <td>0.65</td>\n      <td>0.55</td>\n      <td>0.75</td>\n      <td>0.80</td>\n    </tr>\n    <tr>\n      <th>20</th>\n      <td>{'n_neighbors': 7, 'p': 1, 'weights': 'uniform'}</td>\n      <td>0.685714</td>\n      <td>0.091473</td>\n      <td>0.75</td>\n      <td>0.65</td>\n      <td>0.70</td>\n      <td>0.70</td>\n      <td>0.55</td>\n      <td>0.60</td>\n      <td>0.85</td>\n    </tr>\n    <tr>\n      <th>21</th>\n      <td>{'n_neighbors': 7, 'p': 1, 'weights': 'distance'}</td>\n      <td>0.685714</td>\n      <td>0.091473</td>\n      <td>0.75</td>\n      <td>0.65</td>\n      <td>0.70</td>\n      <td>0.70</td>\n      <td>0.55</td>\n      <td>0.60</td>\n      <td>0.85</td>\n    </tr>\n    <tr>\n      <th>22</th>\n      <td>{'n_neighbors': 7, 'p': 2, 'weights': 'uniform'}</td>\n      <td>0.685714</td>\n      <td>0.087482</td>\n      <td>0.75</td>\n      <td>0.65</td>\n      <td>0.65</td>\n      <td>0.70</td>\n      <td>0.55</td>\n      <td>0.65</td>\n      <td>0.85</td>\n    </tr>\n    <tr>\n      <th>23</th>\n      <td>{'n_neighbors': 7, 'p': 2, 'weights': 'distance'}</td>\n      <td>0.685714</td>\n      <td>0.087482</td>\n      <td>0.75</td>\n      <td>0.65</td>\n      <td>0.65</td>\n      <td>0.70</td>\n      <td>0.55</td>\n      <td>0.65</td>\n      <td>0.85</td>\n    </tr>\n    <tr>\n      <th>27</th>\n      <td>{'n_neighbors': 10, 'p': 2, 'weights': 'distan...</td>\n      <td>0.685714</td>\n      <td>0.087482</td>\n      <td>0.70</td>\n      <td>0.60</td>\n      <td>0.70</td>\n      <td>0.70</td>\n      <td>0.55</td>\n      <td>0.70</td>\n      <td>0.85</td>\n    </tr>\n    <tr>\n      <th>26</th>\n      <td>{'n_neighbors': 10, 'p': 2, 'weights': 'uniform'}</td>\n      <td>0.650000</td>\n      <td>0.075593</td>\n      <td>0.70</td>\n      <td>0.60</td>\n      <td>0.65</td>\n      <td>0.60</td>\n      <td>0.55</td>\n      <td>0.65</td>\n      <td>0.80</td>\n    </tr>\n    <tr>\n      <th>24</th>\n      <td>{'n_neighbors': 10, 'p': 1, 'weights': 'uniform'}</td>\n      <td>0.642857</td>\n      <td>0.072843</td>\n      <td>0.70</td>\n      <td>0.55</td>\n      <td>0.75</td>\n      <td>0.60</td>\n      <td>0.55</td>\n      <td>0.65</td>\n      <td>0.70</td>\n    </tr>\n    <tr>\n      <th>12</th>\n      <td>{'n_neighbors': 4, 'p': 1, 'weights': 'uniform'}</td>\n      <td>0.621429</td>\n      <td>0.064681</td>\n      <td>0.75</td>\n      <td>0.60</td>\n      <td>0.65</td>\n      <td>0.60</td>\n      <td>0.55</td>\n      <td>0.65</td>\n      <td>0.55</td>\n    </tr>\n    <tr>\n      <th>6</th>\n      <td>{'n_neighbors': 2, 'p': 2, 'weights': 'uniform'}</td>\n      <td>0.614286</td>\n      <td>0.105946</td>\n      <td>0.60</td>\n      <td>0.85</td>\n      <td>0.50</td>\n      <td>0.55</td>\n      <td>0.65</td>\n      <td>0.60</td>\n      <td>0.55</td>\n    </tr>\n    <tr>\n      <th>14</th>\n      <td>{'n_neighbors': 4, 'p': 2, 'weights': 'uniform'}</td>\n      <td>0.607143</td>\n      <td>0.072843</td>\n      <td>0.75</td>\n      <td>0.65</td>\n      <td>0.60</td>\n      <td>0.60</td>\n      <td>0.50</td>\n      <td>0.60</td>\n      <td>0.55</td>\n    </tr>\n    <tr>\n      <th>4</th>\n      <td>{'n_neighbors': 2, 'p': 1, 'weights': 'uniform'}</td>\n      <td>0.592857</td>\n      <td>0.097938</td>\n      <td>0.65</td>\n      <td>0.80</td>\n      <td>0.55</td>\n      <td>0.50</td>\n      <td>0.50</td>\n      <td>0.60</td>\n      <td>0.55</td>\n    </tr>\n  </tbody>\n</table>\n</div>"
     },
     "metadata": {},
     "execution_count": 58
    }
   ],
   "source": [
    "# Nearest neighbor.\n",
    "knn = KNeighborsClassifier()\n",
    "knn_params = {\"n_neighbors\": [1, 2, 3, 4, 5, 7, 10], \"p\": [1, 2], \"weights\": (\"uniform\", \"distance\")}\n",
    "cross_validate(knn, knn_params)"
   ]
  },
  {
   "cell_type": "code",
   "execution_count": 59,
   "metadata": {},
   "outputs": [
    {
     "output_type": "stream",
     "name": "stdout",
     "text": [
      "Accuracy: 0.89\nRecall: 68/75 (0.91)\nPrecision: 68/76 (0.89)\n\n"
     ]
    },
    {
     "output_type": "execute_result",
     "data": {
      "text/plain": [
       "                     params  mean_test_score  std_test_score  \\\n",
       "5   {'var_smoothing': 0.01}         0.792857        0.082065   \n",
       "0  {'var_smoothing': 1e-15}         0.785714        0.091473   \n",
       "1  {'var_smoothing': 1e-10}         0.785714        0.091473   \n",
       "2  {'var_smoothing': 1e-09}         0.785714        0.091473   \n",
       "3  {'var_smoothing': 1e-08}         0.785714        0.091473   \n",
       "4  {'var_smoothing': 1e-05}         0.785714        0.091473   \n",
       "6    {'var_smoothing': 0.1}         0.750000        0.100000   \n",
       "\n",
       "   split0_test_score  split1_test_score  split2_test_score  split3_test_score  \\\n",
       "5               0.70               0.75               0.75               0.85   \n",
       "0               0.65               0.75               0.75               0.85   \n",
       "1               0.65               0.75               0.75               0.85   \n",
       "2               0.65               0.75               0.75               0.85   \n",
       "3               0.65               0.75               0.75               0.85   \n",
       "4               0.65               0.75               0.75               0.85   \n",
       "6               0.65               0.65               0.70               0.90   \n",
       "\n",
       "   split4_test_score  split5_test_score  split6_test_score  \n",
       "5                0.7                0.9               0.90  \n",
       "0                0.7                0.9               0.90  \n",
       "1                0.7                0.9               0.90  \n",
       "2                0.7                0.9               0.90  \n",
       "3                0.7                0.9               0.90  \n",
       "4                0.7                0.9               0.90  \n",
       "6                0.7                0.9               0.75  "
      ],
      "text/html": "<div>\n<style scoped>\n    .dataframe tbody tr th:only-of-type {\n        vertical-align: middle;\n    }\n\n    .dataframe tbody tr th {\n        vertical-align: top;\n    }\n\n    .dataframe thead th {\n        text-align: right;\n    }\n</style>\n<table border=\"1\" class=\"dataframe\">\n  <thead>\n    <tr style=\"text-align: right;\">\n      <th></th>\n      <th>params</th>\n      <th>mean_test_score</th>\n      <th>std_test_score</th>\n      <th>split0_test_score</th>\n      <th>split1_test_score</th>\n      <th>split2_test_score</th>\n      <th>split3_test_score</th>\n      <th>split4_test_score</th>\n      <th>split5_test_score</th>\n      <th>split6_test_score</th>\n    </tr>\n  </thead>\n  <tbody>\n    <tr>\n      <th>5</th>\n      <td>{'var_smoothing': 0.01}</td>\n      <td>0.792857</td>\n      <td>0.082065</td>\n      <td>0.70</td>\n      <td>0.75</td>\n      <td>0.75</td>\n      <td>0.85</td>\n      <td>0.7</td>\n      <td>0.9</td>\n      <td>0.90</td>\n    </tr>\n    <tr>\n      <th>0</th>\n      <td>{'var_smoothing': 1e-15}</td>\n      <td>0.785714</td>\n      <td>0.091473</td>\n      <td>0.65</td>\n      <td>0.75</td>\n      <td>0.75</td>\n      <td>0.85</td>\n      <td>0.7</td>\n      <td>0.9</td>\n      <td>0.90</td>\n    </tr>\n    <tr>\n      <th>1</th>\n      <td>{'var_smoothing': 1e-10}</td>\n      <td>0.785714</td>\n      <td>0.091473</td>\n      <td>0.65</td>\n      <td>0.75</td>\n      <td>0.75</td>\n      <td>0.85</td>\n      <td>0.7</td>\n      <td>0.9</td>\n      <td>0.90</td>\n    </tr>\n    <tr>\n      <th>2</th>\n      <td>{'var_smoothing': 1e-09}</td>\n      <td>0.785714</td>\n      <td>0.091473</td>\n      <td>0.65</td>\n      <td>0.75</td>\n      <td>0.75</td>\n      <td>0.85</td>\n      <td>0.7</td>\n      <td>0.9</td>\n      <td>0.90</td>\n    </tr>\n    <tr>\n      <th>3</th>\n      <td>{'var_smoothing': 1e-08}</td>\n      <td>0.785714</td>\n      <td>0.091473</td>\n      <td>0.65</td>\n      <td>0.75</td>\n      <td>0.75</td>\n      <td>0.85</td>\n      <td>0.7</td>\n      <td>0.9</td>\n      <td>0.90</td>\n    </tr>\n    <tr>\n      <th>4</th>\n      <td>{'var_smoothing': 1e-05}</td>\n      <td>0.785714</td>\n      <td>0.091473</td>\n      <td>0.65</td>\n      <td>0.75</td>\n      <td>0.75</td>\n      <td>0.85</td>\n      <td>0.7</td>\n      <td>0.9</td>\n      <td>0.90</td>\n    </tr>\n    <tr>\n      <th>6</th>\n      <td>{'var_smoothing': 0.1}</td>\n      <td>0.750000</td>\n      <td>0.100000</td>\n      <td>0.65</td>\n      <td>0.65</td>\n      <td>0.70</td>\n      <td>0.90</td>\n      <td>0.7</td>\n      <td>0.9</td>\n      <td>0.75</td>\n    </tr>\n  </tbody>\n</table>\n</div>"
     },
     "metadata": {},
     "execution_count": 59
    }
   ],
   "source": [
    "# Naive Bayes.\n",
    "gnb = GaussianNB()\n",
    "gnb_params = {\"var_smoothing\": [1e-15, 1e-10, 1e-9, 1e-8, 1e-5, 1e-2, 1e-1]}\n",
    "cross_validate(gnb, gnb_params)"
   ]
  },
  {
   "cell_type": "code",
   "execution_count": 63,
   "metadata": {},
   "outputs": [
    {
     "output_type": "stream",
     "name": "stdout",
     "text": [
      "Accuracy: 1.00\nRecall: 75/75 (1.00)\nPrecision: 75/75 (1.00)\n\n"
     ]
    },
    {
     "output_type": "execute_result",
     "data": {
      "text/plain": [
       "                                                              params  \\\n",
       "28         {'criterion': 'gini', 'max_depth': 3, 'n_estimators': 50}   \n",
       "36      {'criterion': 'gini', 'max_depth': None, 'n_estimators': 50}   \n",
       "11     {'criterion': 'entropy', 'max_depth': 3, 'n_estimators': 500}   \n",
       "18  {'criterion': 'entropy', 'max_depth': None, 'n_estimators': 200}   \n",
       "15     {'criterion': 'entropy', 'max_depth': 5, 'n_estimators': 500}   \n",
       "27        {'criterion': 'gini', 'max_depth': 2, 'n_estimators': 500}   \n",
       "7      {'criterion': 'entropy', 'max_depth': 2, 'n_estimators': 500}   \n",
       "39     {'criterion': 'gini', 'max_depth': None, 'n_estimators': 500}   \n",
       "33        {'criterion': 'gini', 'max_depth': 5, 'n_estimators': 100}   \n",
       "19  {'criterion': 'entropy', 'max_depth': None, 'n_estimators': 500}   \n",
       "10     {'criterion': 'entropy', 'max_depth': 3, 'n_estimators': 200}   \n",
       "34        {'criterion': 'gini', 'max_depth': 5, 'n_estimators': 200}   \n",
       "30        {'criterion': 'gini', 'max_depth': 3, 'n_estimators': 200}   \n",
       "38     {'criterion': 'gini', 'max_depth': None, 'n_estimators': 200}   \n",
       "26        {'criterion': 'gini', 'max_depth': 2, 'n_estimators': 200}   \n",
       "22        {'criterion': 'gini', 'max_depth': 1, 'n_estimators': 200}   \n",
       "16   {'criterion': 'entropy', 'max_depth': None, 'n_estimators': 50}   \n",
       "35        {'criterion': 'gini', 'max_depth': 5, 'n_estimators': 500}   \n",
       "9      {'criterion': 'entropy', 'max_depth': 3, 'n_estimators': 100}   \n",
       "6      {'criterion': 'entropy', 'max_depth': 2, 'n_estimators': 200}   \n",
       "17  {'criterion': 'entropy', 'max_depth': None, 'n_estimators': 100}   \n",
       "32         {'criterion': 'gini', 'max_depth': 5, 'n_estimators': 50}   \n",
       "25        {'criterion': 'gini', 'max_depth': 2, 'n_estimators': 100}   \n",
       "2      {'criterion': 'entropy', 'max_depth': 1, 'n_estimators': 200}   \n",
       "29        {'criterion': 'gini', 'max_depth': 3, 'n_estimators': 100}   \n",
       "37     {'criterion': 'gini', 'max_depth': None, 'n_estimators': 100}   \n",
       "14     {'criterion': 'entropy', 'max_depth': 5, 'n_estimators': 200}   \n",
       "3      {'criterion': 'entropy', 'max_depth': 1, 'n_estimators': 500}   \n",
       "5      {'criterion': 'entropy', 'max_depth': 2, 'n_estimators': 100}   \n",
       "13     {'criterion': 'entropy', 'max_depth': 5, 'n_estimators': 100}   \n",
       "1      {'criterion': 'entropy', 'max_depth': 1, 'n_estimators': 100}   \n",
       "31        {'criterion': 'gini', 'max_depth': 3, 'n_estimators': 500}   \n",
       "8       {'criterion': 'entropy', 'max_depth': 3, 'n_estimators': 50}   \n",
       "23        {'criterion': 'gini', 'max_depth': 1, 'n_estimators': 500}   \n",
       "12      {'criterion': 'entropy', 'max_depth': 5, 'n_estimators': 50}   \n",
       "4       {'criterion': 'entropy', 'max_depth': 2, 'n_estimators': 50}   \n",
       "21        {'criterion': 'gini', 'max_depth': 1, 'n_estimators': 100}   \n",
       "20         {'criterion': 'gini', 'max_depth': 1, 'n_estimators': 50}   \n",
       "24         {'criterion': 'gini', 'max_depth': 2, 'n_estimators': 50}   \n",
       "0       {'criterion': 'entropy', 'max_depth': 1, 'n_estimators': 50}   \n",
       "\n",
       "    mean_test_score  std_test_score  split0_test_score  split1_test_score  \\\n",
       "28         0.814286        0.132865               0.60               0.65   \n",
       "36         0.800000        0.122474               0.55               0.75   \n",
       "11         0.792857        0.101519               0.60               0.80   \n",
       "18         0.785714        0.130149               0.55               0.70   \n",
       "15         0.778571        0.116058               0.55               0.75   \n",
       "27         0.778571        0.124949               0.55               0.70   \n",
       "7          0.778571        0.133248               0.50               0.75   \n",
       "39         0.771429        0.148461               0.55               0.70   \n",
       "33         0.771429        0.116058               0.65               0.60   \n",
       "19         0.771429        0.116058               0.55               0.70   \n",
       "10         0.764286        0.121638               0.60               0.60   \n",
       "34         0.764286        0.130149               0.55               0.65   \n",
       "30         0.764286        0.132865               0.55               0.65   \n",
       "38         0.764286        0.118666               0.55               0.70   \n",
       "26         0.764286        0.132865               0.55               0.70   \n",
       "22         0.764286        0.132865               0.50               0.70   \n",
       "16         0.764286        0.115617               0.65               0.60   \n",
       "35         0.757143        0.123718               0.55               0.70   \n",
       "9          0.757143        0.134771               0.55               0.75   \n",
       "6          0.757143        0.120797               0.55               0.60   \n",
       "17         0.757143        0.114731               0.55               0.70   \n",
       "32         0.750000        0.110195               0.55               0.75   \n",
       "25         0.742857        0.152195               0.55               0.65   \n",
       "2          0.742857        0.142500               0.45               0.65   \n",
       "29         0.742857        0.129363               0.50               0.75   \n",
       "37         0.742857        0.111575               0.60               0.65   \n",
       "14         0.742857        0.123718               0.55               0.70   \n",
       "3          0.735714        0.145686               0.50               0.60   \n",
       "5          0.735714        0.121638               0.55               0.60   \n",
       "13         0.735714        0.140698               0.50               0.70   \n",
       "1          0.735714        0.124540               0.55               0.60   \n",
       "31         0.735714        0.138136               0.55               0.60   \n",
       "8          0.728571        0.157791               0.50               0.60   \n",
       "23         0.728571        0.138505               0.45               0.65   \n",
       "12         0.728571        0.119095               0.55               0.65   \n",
       "4          0.721429        0.143570               0.65               0.50   \n",
       "21         0.714286        0.118666               0.50               0.75   \n",
       "20         0.714286        0.145686               0.50               0.55   \n",
       "24         0.707143        0.132095               0.55               0.55   \n",
       "0          0.657143        0.129363               0.50               0.65   \n",
       "\n",
       "    split2_test_score  split3_test_score  split4_test_score  \\\n",
       "28               0.85               0.80               1.00   \n",
       "36               0.75               0.95               0.85   \n",
       "11               0.80               0.85               0.70   \n",
       "18               0.75               0.90               0.75   \n",
       "15               0.80               0.85               0.70   \n",
       "27               0.75               0.85               0.75   \n",
       "7                0.80               0.80               0.75   \n",
       "39               0.80               0.85               0.60   \n",
       "33               0.80               0.85               0.70   \n",
       "19               0.80               0.80               0.75   \n",
       "10               0.70               0.85               0.80   \n",
       "34               0.80               0.80               0.70   \n",
       "30               0.70               0.85               0.75   \n",
       "38               0.70               0.85               0.75   \n",
       "26               0.75               0.85               0.65   \n",
       "22               0.70               0.85               0.80   \n",
       "16               0.70               0.85               0.75   \n",
       "35               0.75               0.85               0.65   \n",
       "9                0.65               0.90               0.65   \n",
       "6                0.80               0.85               0.80   \n",
       "17               0.85               0.85               0.65   \n",
       "32               0.75               0.80               0.65   \n",
       "25               0.75               0.85               0.55   \n",
       "2                0.75               0.85               0.75   \n",
       "29               0.75               0.75               0.65   \n",
       "37               0.70               0.85               0.65   \n",
       "14               0.70               0.80               0.65   \n",
       "3                0.75               0.85               0.65   \n",
       "5                0.75               0.75               0.75   \n",
       "13               0.70               0.75               0.65   \n",
       "1                0.75               0.75               0.70   \n",
       "31               0.65               0.85               0.70   \n",
       "8                0.65               0.85               0.65   \n",
       "23               0.75               0.80               0.70   \n",
       "12               0.75               0.80               0.65   \n",
       "4                0.70               0.85               0.60   \n",
       "21               0.70               0.75               0.60   \n",
       "20               0.70               0.85               0.65   \n",
       "24               0.65               0.80               0.65   \n",
       "0                0.60               0.55               0.60   \n",
       "\n",
       "    split5_test_score  split6_test_score  \n",
       "28               0.90               0.90  \n",
       "36               0.85               0.90  \n",
       "11               0.90               0.90  \n",
       "18               0.95               0.90  \n",
       "15               0.90               0.90  \n",
       "27               0.90               0.95  \n",
       "7                0.95               0.90  \n",
       "39               0.95               0.95  \n",
       "33               0.85               0.95  \n",
       "19               0.95               0.85  \n",
       "10               0.90               0.90  \n",
       "34               0.90               0.95  \n",
       "30               0.90               0.95  \n",
       "38               0.90               0.90  \n",
       "26               0.95               0.90  \n",
       "22               0.90               0.90  \n",
       "16               0.85               0.95  \n",
       "35               0.90               0.90  \n",
       "9                0.90               0.90  \n",
       "6                0.80               0.90  \n",
       "17               0.85               0.85  \n",
       "32               0.85               0.90  \n",
       "25               0.95               0.90  \n",
       "2                0.85               0.90  \n",
       "29               0.90               0.90  \n",
       "37               0.85               0.90  \n",
       "14               0.95               0.85  \n",
       "3                0.90               0.90  \n",
       "5                0.80               0.95  \n",
       "13               0.95               0.90  \n",
       "1                0.90               0.90  \n",
       "31               0.85               0.95  \n",
       "8                0.90               0.95  \n",
       "23               0.90               0.85  \n",
       "12               0.95               0.75  \n",
       "4                0.95               0.80  \n",
       "21               0.85               0.85  \n",
       "20               0.85               0.90  \n",
       "24               0.90               0.85  \n",
       "0                0.85               0.85  "
      ],
      "text/html": "<div>\n<style scoped>\n    .dataframe tbody tr th:only-of-type {\n        vertical-align: middle;\n    }\n\n    .dataframe tbody tr th {\n        vertical-align: top;\n    }\n\n    .dataframe thead th {\n        text-align: right;\n    }\n</style>\n<table border=\"1\" class=\"dataframe\">\n  <thead>\n    <tr style=\"text-align: right;\">\n      <th></th>\n      <th>params</th>\n      <th>mean_test_score</th>\n      <th>std_test_score</th>\n      <th>split0_test_score</th>\n      <th>split1_test_score</th>\n      <th>split2_test_score</th>\n      <th>split3_test_score</th>\n      <th>split4_test_score</th>\n      <th>split5_test_score</th>\n      <th>split6_test_score</th>\n    </tr>\n  </thead>\n  <tbody>\n    <tr>\n      <th>28</th>\n      <td>{'criterion': 'gini', 'max_depth': 3, 'n_estimators': 50}</td>\n      <td>0.814286</td>\n      <td>0.132865</td>\n      <td>0.60</td>\n      <td>0.65</td>\n      <td>0.85</td>\n      <td>0.80</td>\n      <td>1.00</td>\n      <td>0.90</td>\n      <td>0.90</td>\n    </tr>\n    <tr>\n      <th>36</th>\n      <td>{'criterion': 'gini', 'max_depth': None, 'n_estimators': 50}</td>\n      <td>0.800000</td>\n      <td>0.122474</td>\n      <td>0.55</td>\n      <td>0.75</td>\n      <td>0.75</td>\n      <td>0.95</td>\n      <td>0.85</td>\n      <td>0.85</td>\n      <td>0.90</td>\n    </tr>\n    <tr>\n      <th>11</th>\n      <td>{'criterion': 'entropy', 'max_depth': 3, 'n_estimators': 500}</td>\n      <td>0.792857</td>\n      <td>0.101519</td>\n      <td>0.60</td>\n      <td>0.80</td>\n      <td>0.80</td>\n      <td>0.85</td>\n      <td>0.70</td>\n      <td>0.90</td>\n      <td>0.90</td>\n    </tr>\n    <tr>\n      <th>18</th>\n      <td>{'criterion': 'entropy', 'max_depth': None, 'n_estimators': 200}</td>\n      <td>0.785714</td>\n      <td>0.130149</td>\n      <td>0.55</td>\n      <td>0.70</td>\n      <td>0.75</td>\n      <td>0.90</td>\n      <td>0.75</td>\n      <td>0.95</td>\n      <td>0.90</td>\n    </tr>\n    <tr>\n      <th>15</th>\n      <td>{'criterion': 'entropy', 'max_depth': 5, 'n_estimators': 500}</td>\n      <td>0.778571</td>\n      <td>0.116058</td>\n      <td>0.55</td>\n      <td>0.75</td>\n      <td>0.80</td>\n      <td>0.85</td>\n      <td>0.70</td>\n      <td>0.90</td>\n      <td>0.90</td>\n    </tr>\n    <tr>\n      <th>27</th>\n      <td>{'criterion': 'gini', 'max_depth': 2, 'n_estimators': 500}</td>\n      <td>0.778571</td>\n      <td>0.124949</td>\n      <td>0.55</td>\n      <td>0.70</td>\n      <td>0.75</td>\n      <td>0.85</td>\n      <td>0.75</td>\n      <td>0.90</td>\n      <td>0.95</td>\n    </tr>\n    <tr>\n      <th>7</th>\n      <td>{'criterion': 'entropy', 'max_depth': 2, 'n_estimators': 500}</td>\n      <td>0.778571</td>\n      <td>0.133248</td>\n      <td>0.50</td>\n      <td>0.75</td>\n      <td>0.80</td>\n      <td>0.80</td>\n      <td>0.75</td>\n      <td>0.95</td>\n      <td>0.90</td>\n    </tr>\n    <tr>\n      <th>39</th>\n      <td>{'criterion': 'gini', 'max_depth': None, 'n_estimators': 500}</td>\n      <td>0.771429</td>\n      <td>0.148461</td>\n      <td>0.55</td>\n      <td>0.70</td>\n      <td>0.80</td>\n      <td>0.85</td>\n      <td>0.60</td>\n      <td>0.95</td>\n      <td>0.95</td>\n    </tr>\n    <tr>\n      <th>33</th>\n      <td>{'criterion': 'gini', 'max_depth': 5, 'n_estimators': 100}</td>\n      <td>0.771429</td>\n      <td>0.116058</td>\n      <td>0.65</td>\n      <td>0.60</td>\n      <td>0.80</td>\n      <td>0.85</td>\n      <td>0.70</td>\n      <td>0.85</td>\n      <td>0.95</td>\n    </tr>\n    <tr>\n      <th>19</th>\n      <td>{'criterion': 'entropy', 'max_depth': None, 'n_estimators': 500}</td>\n      <td>0.771429</td>\n      <td>0.116058</td>\n      <td>0.55</td>\n      <td>0.70</td>\n      <td>0.80</td>\n      <td>0.80</td>\n      <td>0.75</td>\n      <td>0.95</td>\n      <td>0.85</td>\n    </tr>\n    <tr>\n      <th>10</th>\n      <td>{'criterion': 'entropy', 'max_depth': 3, 'n_estimators': 200}</td>\n      <td>0.764286</td>\n      <td>0.121638</td>\n      <td>0.60</td>\n      <td>0.60</td>\n      <td>0.70</td>\n      <td>0.85</td>\n      <td>0.80</td>\n      <td>0.90</td>\n      <td>0.90</td>\n    </tr>\n    <tr>\n      <th>34</th>\n      <td>{'criterion': 'gini', 'max_depth': 5, 'n_estimators': 200}</td>\n      <td>0.764286</td>\n      <td>0.130149</td>\n      <td>0.55</td>\n      <td>0.65</td>\n      <td>0.80</td>\n      <td>0.80</td>\n      <td>0.70</td>\n      <td>0.90</td>\n      <td>0.95</td>\n    </tr>\n    <tr>\n      <th>30</th>\n      <td>{'criterion': 'gini', 'max_depth': 3, 'n_estimators': 200}</td>\n      <td>0.764286</td>\n      <td>0.132865</td>\n      <td>0.55</td>\n      <td>0.65</td>\n      <td>0.70</td>\n      <td>0.85</td>\n      <td>0.75</td>\n      <td>0.90</td>\n      <td>0.95</td>\n    </tr>\n    <tr>\n      <th>38</th>\n      <td>{'criterion': 'gini', 'max_depth': None, 'n_estimators': 200}</td>\n      <td>0.764286</td>\n      <td>0.118666</td>\n      <td>0.55</td>\n      <td>0.70</td>\n      <td>0.70</td>\n      <td>0.85</td>\n      <td>0.75</td>\n      <td>0.90</td>\n      <td>0.90</td>\n    </tr>\n    <tr>\n      <th>26</th>\n      <td>{'criterion': 'gini', 'max_depth': 2, 'n_estimators': 200}</td>\n      <td>0.764286</td>\n      <td>0.132865</td>\n      <td>0.55</td>\n      <td>0.70</td>\n      <td>0.75</td>\n      <td>0.85</td>\n      <td>0.65</td>\n      <td>0.95</td>\n      <td>0.90</td>\n    </tr>\n    <tr>\n      <th>22</th>\n      <td>{'criterion': 'gini', 'max_depth': 1, 'n_estimators': 200}</td>\n      <td>0.764286</td>\n      <td>0.132865</td>\n      <td>0.50</td>\n      <td>0.70</td>\n      <td>0.70</td>\n      <td>0.85</td>\n      <td>0.80</td>\n      <td>0.90</td>\n      <td>0.90</td>\n    </tr>\n    <tr>\n      <th>16</th>\n      <td>{'criterion': 'entropy', 'max_depth': None, 'n_estimators': 50}</td>\n      <td>0.764286</td>\n      <td>0.115617</td>\n      <td>0.65</td>\n      <td>0.60</td>\n      <td>0.70</td>\n      <td>0.85</td>\n      <td>0.75</td>\n      <td>0.85</td>\n      <td>0.95</td>\n    </tr>\n    <tr>\n      <th>35</th>\n      <td>{'criterion': 'gini', 'max_depth': 5, 'n_estimators': 500}</td>\n      <td>0.757143</td>\n      <td>0.123718</td>\n      <td>0.55</td>\n      <td>0.70</td>\n      <td>0.75</td>\n      <td>0.85</td>\n      <td>0.65</td>\n      <td>0.90</td>\n      <td>0.90</td>\n    </tr>\n    <tr>\n      <th>9</th>\n      <td>{'criterion': 'entropy', 'max_depth': 3, 'n_estimators': 100}</td>\n      <td>0.757143</td>\n      <td>0.134771</td>\n      <td>0.55</td>\n      <td>0.75</td>\n      <td>0.65</td>\n      <td>0.90</td>\n      <td>0.65</td>\n      <td>0.90</td>\n      <td>0.90</td>\n    </tr>\n    <tr>\n      <th>6</th>\n      <td>{'criterion': 'entropy', 'max_depth': 2, 'n_estimators': 200}</td>\n      <td>0.757143</td>\n      <td>0.120797</td>\n      <td>0.55</td>\n      <td>0.60</td>\n      <td>0.80</td>\n      <td>0.85</td>\n      <td>0.80</td>\n      <td>0.80</td>\n      <td>0.90</td>\n    </tr>\n    <tr>\n      <th>17</th>\n      <td>{'criterion': 'entropy', 'max_depth': None, 'n_estimators': 100}</td>\n      <td>0.757143</td>\n      <td>0.114731</td>\n      <td>0.55</td>\n      <td>0.70</td>\n      <td>0.85</td>\n      <td>0.85</td>\n      <td>0.65</td>\n      <td>0.85</td>\n      <td>0.85</td>\n    </tr>\n    <tr>\n      <th>32</th>\n      <td>{'criterion': 'gini', 'max_depth': 5, 'n_estimators': 50}</td>\n      <td>0.750000</td>\n      <td>0.110195</td>\n      <td>0.55</td>\n      <td>0.75</td>\n      <td>0.75</td>\n      <td>0.80</td>\n      <td>0.65</td>\n      <td>0.85</td>\n      <td>0.90</td>\n    </tr>\n    <tr>\n      <th>25</th>\n      <td>{'criterion': 'gini', 'max_depth': 2, 'n_estimators': 100}</td>\n      <td>0.742857</td>\n      <td>0.152195</td>\n      <td>0.55</td>\n      <td>0.65</td>\n      <td>0.75</td>\n      <td>0.85</td>\n      <td>0.55</td>\n      <td>0.95</td>\n      <td>0.90</td>\n    </tr>\n    <tr>\n      <th>2</th>\n      <td>{'criterion': 'entropy', 'max_depth': 1, 'n_estimators': 200}</td>\n      <td>0.742857</td>\n      <td>0.142500</td>\n      <td>0.45</td>\n      <td>0.65</td>\n      <td>0.75</td>\n      <td>0.85</td>\n      <td>0.75</td>\n      <td>0.85</td>\n      <td>0.90</td>\n    </tr>\n    <tr>\n      <th>29</th>\n      <td>{'criterion': 'gini', 'max_depth': 3, 'n_estimators': 100}</td>\n      <td>0.742857</td>\n      <td>0.129363</td>\n      <td>0.50</td>\n      <td>0.75</td>\n      <td>0.75</td>\n      <td>0.75</td>\n      <td>0.65</td>\n      <td>0.90</td>\n      <td>0.90</td>\n    </tr>\n    <tr>\n      <th>37</th>\n      <td>{'criterion': 'gini', 'max_depth': None, 'n_estimators': 100}</td>\n      <td>0.742857</td>\n      <td>0.111575</td>\n      <td>0.60</td>\n      <td>0.65</td>\n      <td>0.70</td>\n      <td>0.85</td>\n      <td>0.65</td>\n      <td>0.85</td>\n      <td>0.90</td>\n    </tr>\n    <tr>\n      <th>14</th>\n      <td>{'criterion': 'entropy', 'max_depth': 5, 'n_estimators': 200}</td>\n      <td>0.742857</td>\n      <td>0.123718</td>\n      <td>0.55</td>\n      <td>0.70</td>\n      <td>0.70</td>\n      <td>0.80</td>\n      <td>0.65</td>\n      <td>0.95</td>\n      <td>0.85</td>\n    </tr>\n    <tr>\n      <th>3</th>\n      <td>{'criterion': 'entropy', 'max_depth': 1, 'n_estimators': 500}</td>\n      <td>0.735714</td>\n      <td>0.145686</td>\n      <td>0.50</td>\n      <td>0.60</td>\n      <td>0.75</td>\n      <td>0.85</td>\n      <td>0.65</td>\n      <td>0.90</td>\n      <td>0.90</td>\n    </tr>\n    <tr>\n      <th>5</th>\n      <td>{'criterion': 'entropy', 'max_depth': 2, 'n_estimators': 100}</td>\n      <td>0.735714</td>\n      <td>0.121638</td>\n      <td>0.55</td>\n      <td>0.60</td>\n      <td>0.75</td>\n      <td>0.75</td>\n      <td>0.75</td>\n      <td>0.80</td>\n      <td>0.95</td>\n    </tr>\n    <tr>\n      <th>13</th>\n      <td>{'criterion': 'entropy', 'max_depth': 5, 'n_estimators': 100}</td>\n      <td>0.735714</td>\n      <td>0.140698</td>\n      <td>0.50</td>\n      <td>0.70</td>\n      <td>0.70</td>\n      <td>0.75</td>\n      <td>0.65</td>\n      <td>0.95</td>\n      <td>0.90</td>\n    </tr>\n    <tr>\n      <th>1</th>\n      <td>{'criterion': 'entropy', 'max_depth': 1, 'n_estimators': 100}</td>\n      <td>0.735714</td>\n      <td>0.124540</td>\n      <td>0.55</td>\n      <td>0.60</td>\n      <td>0.75</td>\n      <td>0.75</td>\n      <td>0.70</td>\n      <td>0.90</td>\n      <td>0.90</td>\n    </tr>\n    <tr>\n      <th>31</th>\n      <td>{'criterion': 'gini', 'max_depth': 3, 'n_estimators': 500}</td>\n      <td>0.735714</td>\n      <td>0.138136</td>\n      <td>0.55</td>\n      <td>0.60</td>\n      <td>0.65</td>\n      <td>0.85</td>\n      <td>0.70</td>\n      <td>0.85</td>\n      <td>0.95</td>\n    </tr>\n    <tr>\n      <th>8</th>\n      <td>{'criterion': 'entropy', 'max_depth': 3, 'n_estimators': 50}</td>\n      <td>0.728571</td>\n      <td>0.157791</td>\n      <td>0.50</td>\n      <td>0.60</td>\n      <td>0.65</td>\n      <td>0.85</td>\n      <td>0.65</td>\n      <td>0.90</td>\n      <td>0.95</td>\n    </tr>\n    <tr>\n      <th>23</th>\n      <td>{'criterion': 'gini', 'max_depth': 1, 'n_estimators': 500}</td>\n      <td>0.728571</td>\n      <td>0.138505</td>\n      <td>0.45</td>\n      <td>0.65</td>\n      <td>0.75</td>\n      <td>0.80</td>\n      <td>0.70</td>\n      <td>0.90</td>\n      <td>0.85</td>\n    </tr>\n    <tr>\n      <th>12</th>\n      <td>{'criterion': 'entropy', 'max_depth': 5, 'n_estimators': 50}</td>\n      <td>0.728571</td>\n      <td>0.119095</td>\n      <td>0.55</td>\n      <td>0.65</td>\n      <td>0.75</td>\n      <td>0.80</td>\n      <td>0.65</td>\n      <td>0.95</td>\n      <td>0.75</td>\n    </tr>\n    <tr>\n      <th>4</th>\n      <td>{'criterion': 'entropy', 'max_depth': 2, 'n_estimators': 50}</td>\n      <td>0.721429</td>\n      <td>0.143570</td>\n      <td>0.65</td>\n      <td>0.50</td>\n      <td>0.70</td>\n      <td>0.85</td>\n      <td>0.60</td>\n      <td>0.95</td>\n      <td>0.80</td>\n    </tr>\n    <tr>\n      <th>21</th>\n      <td>{'criterion': 'gini', 'max_depth': 1, 'n_estimators': 100}</td>\n      <td>0.714286</td>\n      <td>0.118666</td>\n      <td>0.50</td>\n      <td>0.75</td>\n      <td>0.70</td>\n      <td>0.75</td>\n      <td>0.60</td>\n      <td>0.85</td>\n      <td>0.85</td>\n    </tr>\n    <tr>\n      <th>20</th>\n      <td>{'criterion': 'gini', 'max_depth': 1, 'n_estimators': 50}</td>\n      <td>0.714286</td>\n      <td>0.145686</td>\n      <td>0.50</td>\n      <td>0.55</td>\n      <td>0.70</td>\n      <td>0.85</td>\n      <td>0.65</td>\n      <td>0.85</td>\n      <td>0.90</td>\n    </tr>\n    <tr>\n      <th>24</th>\n      <td>{'criterion': 'gini', 'max_depth': 2, 'n_estimators': 50}</td>\n      <td>0.707143</td>\n      <td>0.132095</td>\n      <td>0.55</td>\n      <td>0.55</td>\n      <td>0.65</td>\n      <td>0.80</td>\n      <td>0.65</td>\n      <td>0.90</td>\n      <td>0.85</td>\n    </tr>\n    <tr>\n      <th>0</th>\n      <td>{'criterion': 'entropy', 'max_depth': 1, 'n_estimators': 50}</td>\n      <td>0.657143</td>\n      <td>0.129363</td>\n      <td>0.50</td>\n      <td>0.65</td>\n      <td>0.60</td>\n      <td>0.55</td>\n      <td>0.60</td>\n      <td>0.85</td>\n      <td>0.85</td>\n    </tr>\n  </tbody>\n</table>\n</div>"
     },
     "metadata": {},
     "execution_count": 63
    }
   ],
   "source": [
    "# Random forest.\n",
    "rf = RandomForestClassifier()\n",
    "rf_params = {\"n_estimators\": [50, 100, 200, 500], \"max_depth\": [1,2,3,5, None], \"criterion\": (\"entropy\", \"gini\")}\n",
    "cross_validate(rf, rf_params)"
   ]
  },
  {
   "cell_type": "code",
   "execution_count": 66,
   "metadata": {},
   "outputs": [
    {
     "output_type": "stream",
     "name": "stdout",
     "text": [
      "Accuracy: 1.00\nRecall: 75/75 (1.00)\nPrecision: 75/75 (1.00)\n\n"
     ]
    },
    {
     "output_type": "execute_result",
     "data": {
      "text/plain": [
       "                                           params  mean_test_score  \\\n",
       "51     {'C': 1000, 'degree': 2, 'kernel': 'poly'}         0.857143   \n",
       "18        {'C': 1, 'degree': 3, 'kernel': 'poly'}         0.857143   \n",
       "39      {'C': 100, 'degree': 2, 'kernel': 'poly'}         0.857143   \n",
       "27       {'C': 10, 'degree': 2, 'kernel': 'poly'}         0.857143   \n",
       "24       {'C': 10, 'degree': 1, 'kernel': 'poly'}         0.857143   \n",
       "48     {'C': 1000, 'degree': 1, 'kernel': 'poly'}         0.857143   \n",
       "36      {'C': 100, 'degree': 1, 'kernel': 'poly'}         0.857143   \n",
       "46       {'C': 100, 'degree': 4, 'kernel': 'rbf'}         0.850000   \n",
       "58      {'C': 1000, 'degree': 4, 'kernel': 'rbf'}         0.850000   \n",
       "25        {'C': 10, 'degree': 1, 'kernel': 'rbf'}         0.850000   \n",
       "30       {'C': 10, 'degree': 3, 'kernel': 'poly'}         0.850000   \n",
       "21        {'C': 1, 'degree': 4, 'kernel': 'poly'}         0.850000   \n",
       "31        {'C': 10, 'degree': 3, 'kernel': 'rbf'}         0.850000   \n",
       "34        {'C': 10, 'degree': 4, 'kernel': 'rbf'}         0.850000   \n",
       "28        {'C': 10, 'degree': 2, 'kernel': 'rbf'}         0.850000   \n",
       "49      {'C': 1000, 'degree': 1, 'kernel': 'rbf'}         0.850000   \n",
       "40       {'C': 100, 'degree': 2, 'kernel': 'rbf'}         0.850000   \n",
       "52      {'C': 1000, 'degree': 2, 'kernel': 'rbf'}         0.850000   \n",
       "42      {'C': 100, 'degree': 3, 'kernel': 'poly'}         0.850000   \n",
       "54     {'C': 1000, 'degree': 3, 'kernel': 'poly'}         0.850000   \n",
       "55      {'C': 1000, 'degree': 3, 'kernel': 'rbf'}         0.850000   \n",
       "43       {'C': 100, 'degree': 3, 'kernel': 'rbf'}         0.850000   \n",
       "37       {'C': 100, 'degree': 1, 'kernel': 'rbf'}         0.850000   \n",
       "15        {'C': 1, 'degree': 2, 'kernel': 'poly'}         0.850000   \n",
       "33       {'C': 10, 'degree': 4, 'kernel': 'poly'}         0.842857   \n",
       "45      {'C': 100, 'degree': 4, 'kernel': 'poly'}         0.842857   \n",
       "57     {'C': 1000, 'degree': 4, 'kernel': 'poly'}         0.842857   \n",
       "32    {'C': 10, 'degree': 3, 'kernel': 'sigmoid'}         0.835714   \n",
       "35    {'C': 10, 'degree': 4, 'kernel': 'sigmoid'}         0.835714   \n",
       "29    {'C': 10, 'degree': 2, 'kernel': 'sigmoid'}         0.835714   \n",
       "26    {'C': 10, 'degree': 1, 'kernel': 'sigmoid'}         0.835714   \n",
       "22         {'C': 1, 'degree': 4, 'kernel': 'rbf'}         0.828571   \n",
       "19         {'C': 1, 'degree': 3, 'kernel': 'rbf'}         0.828571   \n",
       "16         {'C': 1, 'degree': 2, 'kernel': 'rbf'}         0.828571   \n",
       "13         {'C': 1, 'degree': 1, 'kernel': 'rbf'}         0.828571   \n",
       "12        {'C': 1, 'degree': 1, 'kernel': 'poly'}         0.821429   \n",
       "23     {'C': 1, 'degree': 4, 'kernel': 'sigmoid'}         0.735714   \n",
       "17     {'C': 1, 'degree': 2, 'kernel': 'sigmoid'}         0.735714   \n",
       "20     {'C': 1, 'degree': 3, 'kernel': 'sigmoid'}         0.735714   \n",
       "14     {'C': 1, 'degree': 1, 'kernel': 'sigmoid'}         0.735714   \n",
       "47   {'C': 100, 'degree': 4, 'kernel': 'sigmoid'}         0.728571   \n",
       "41   {'C': 100, 'degree': 2, 'kernel': 'sigmoid'}         0.728571   \n",
       "44   {'C': 100, 'degree': 3, 'kernel': 'sigmoid'}         0.728571   \n",
       "38   {'C': 100, 'degree': 1, 'kernel': 'sigmoid'}         0.728571   \n",
       "50  {'C': 1000, 'degree': 1, 'kernel': 'sigmoid'}         0.707143   \n",
       "53  {'C': 1000, 'degree': 2, 'kernel': 'sigmoid'}         0.707143   \n",
       "56  {'C': 1000, 'degree': 3, 'kernel': 'sigmoid'}         0.707143   \n",
       "59  {'C': 1000, 'degree': 4, 'kernel': 'sigmoid'}         0.707143   \n",
       "9       {'C': 0.1, 'degree': 4, 'kernel': 'poly'}         0.657143   \n",
       "6       {'C': 0.1, 'degree': 3, 'kernel': 'poly'}         0.592857   \n",
       "10       {'C': 0.1, 'degree': 4, 'kernel': 'rbf'}         0.535714   \n",
       "8    {'C': 0.1, 'degree': 3, 'kernel': 'sigmoid'}         0.535714   \n",
       "7        {'C': 0.1, 'degree': 3, 'kernel': 'rbf'}         0.535714   \n",
       "5    {'C': 0.1, 'degree': 2, 'kernel': 'sigmoid'}         0.535714   \n",
       "4        {'C': 0.1, 'degree': 2, 'kernel': 'rbf'}         0.535714   \n",
       "3       {'C': 0.1, 'degree': 2, 'kernel': 'poly'}         0.535714   \n",
       "2    {'C': 0.1, 'degree': 1, 'kernel': 'sigmoid'}         0.535714   \n",
       "1        {'C': 0.1, 'degree': 1, 'kernel': 'rbf'}         0.535714   \n",
       "11   {'C': 0.1, 'degree': 4, 'kernel': 'sigmoid'}         0.535714   \n",
       "0       {'C': 0.1, 'degree': 1, 'kernel': 'poly'}         0.535714   \n",
       "\n",
       "    std_test_score  split0_test_score  split1_test_score  split2_test_score  \\\n",
       "51        0.108327               0.75               0.95               0.75   \n",
       "18        0.104978               0.70               0.95               0.85   \n",
       "39        0.108327               0.75               0.95               0.75   \n",
       "27        0.108327               0.75               0.95               0.75   \n",
       "24        0.094221               0.75               0.90               0.75   \n",
       "48        0.094221               0.75               0.90               0.75   \n",
       "36        0.094221               0.75               0.90               0.75   \n",
       "46        0.122474               0.65               0.95               0.80   \n",
       "58        0.122474               0.65               0.95               0.80   \n",
       "25        0.122474               0.65               0.95               0.80   \n",
       "30        0.116496               0.70               0.95               0.85   \n",
       "21        0.116496               0.70               0.95               0.85   \n",
       "31        0.122474               0.65               0.95               0.80   \n",
       "34        0.122474               0.65               0.95               0.80   \n",
       "28        0.122474               0.65               0.95               0.80   \n",
       "49        0.122474               0.65               0.95               0.80   \n",
       "40        0.122474               0.65               0.95               0.80   \n",
       "52        0.122474               0.65               0.95               0.80   \n",
       "42        0.116496               0.70               0.95               0.85   \n",
       "54        0.116496               0.70               0.95               0.85   \n",
       "55        0.122474               0.65               0.95               0.80   \n",
       "43        0.122474               0.65               0.95               0.80   \n",
       "37        0.122474               0.65               0.95               0.80   \n",
       "15        0.116496               0.70               0.95               0.75   \n",
       "33        0.129363               0.70               0.95               0.85   \n",
       "45        0.129363               0.70               0.95               0.85   \n",
       "57        0.129363               0.70               0.95               0.85   \n",
       "32        0.105946               0.70               0.90               0.75   \n",
       "35        0.105946               0.70               0.90               0.75   \n",
       "29        0.105946               0.70               0.90               0.75   \n",
       "26        0.105946               0.70               0.90               0.75   \n",
       "22        0.095831               0.65               0.85               0.80   \n",
       "19        0.095831               0.65               0.85               0.80   \n",
       "16        0.095831               0.65               0.85               0.80   \n",
       "13        0.095831               0.65               0.85               0.80   \n",
       "12        0.127775               0.60               0.90               0.70   \n",
       "23        0.115617               0.55               0.80               0.70   \n",
       "17        0.115617               0.55               0.80               0.70   \n",
       "20        0.115617               0.55               0.80               0.70   \n",
       "14        0.115617               0.55               0.80               0.70   \n",
       "47        0.116058               0.60               0.65               0.70   \n",
       "41        0.116058               0.60               0.65               0.70   \n",
       "44        0.116058               0.60               0.65               0.70   \n",
       "38        0.116058               0.60               0.65               0.70   \n",
       "50        0.117803               0.55               0.70               0.70   \n",
       "53        0.117803               0.55               0.70               0.70   \n",
       "56        0.117803               0.55               0.70               0.70   \n",
       "59        0.117803               0.55               0.70               0.70   \n",
       "9         0.082065               0.55               0.70               0.55   \n",
       "6         0.031944               0.55               0.55               0.60   \n",
       "10        0.022588               0.50               0.50               0.55   \n",
       "8         0.022588               0.50               0.50               0.55   \n",
       "7         0.022588               0.50               0.50               0.55   \n",
       "5         0.022588               0.50               0.50               0.55   \n",
       "4         0.022588               0.50               0.50               0.55   \n",
       "3         0.022588               0.50               0.50               0.55   \n",
       "2         0.022588               0.50               0.50               0.55   \n",
       "1         0.022588               0.50               0.50               0.55   \n",
       "11        0.022588               0.50               0.50               0.55   \n",
       "0         0.022588               0.50               0.50               0.55   \n",
       "\n",
       "    split3_test_score  split4_test_score  split5_test_score  split6_test_score  \n",
       "51               0.95               0.70               0.95               0.95  \n",
       "18               0.95               0.70               0.90               0.95  \n",
       "39               0.95               0.70               0.95               0.95  \n",
       "27               0.95               0.70               0.95               0.95  \n",
       "24               0.95               0.75               0.95               0.95  \n",
       "48               0.95               0.75               0.95               0.95  \n",
       "36               0.95               0.75               0.95               0.95  \n",
       "46               0.95               0.70               0.95               0.95  \n",
       "58               0.95               0.70               0.95               0.95  \n",
       "25               0.95               0.70               0.95               0.95  \n",
       "30               0.95               0.65               0.90               0.95  \n",
       "21               0.95               0.65               0.90               0.95  \n",
       "31               0.95               0.70               0.95               0.95  \n",
       "34               0.95               0.70               0.95               0.95  \n",
       "28               0.95               0.70               0.95               0.95  \n",
       "49               0.95               0.70               0.95               0.95  \n",
       "40               0.95               0.70               0.95               0.95  \n",
       "52               0.95               0.70               0.95               0.95  \n",
       "42               0.95               0.65               0.90               0.95  \n",
       "54               0.95               0.65               0.90               0.95  \n",
       "55               0.95               0.70               0.95               0.95  \n",
       "43               0.95               0.70               0.95               0.95  \n",
       "37               0.95               0.70               0.95               0.95  \n",
       "15               0.95               0.70               0.95               0.95  \n",
       "33               0.95               0.60               0.90               0.95  \n",
       "45               0.95               0.60               0.90               0.95  \n",
       "57               0.95               0.60               0.90               0.95  \n",
       "32               0.90               0.70               0.95               0.95  \n",
       "35               0.90               0.70               0.95               0.95  \n",
       "29               0.90               0.70               0.95               0.95  \n",
       "26               0.90               0.70               0.95               0.95  \n",
       "22               0.90               0.75               0.95               0.90  \n",
       "19               0.90               0.75               0.95               0.90  \n",
       "16               0.90               0.75               0.95               0.90  \n",
       "13               0.90               0.75               0.95               0.90  \n",
       "12               0.95               0.75               0.95               0.90  \n",
       "23               0.80               0.60               0.90               0.80  \n",
       "17               0.80               0.60               0.90               0.80  \n",
       "20               0.80               0.60               0.90               0.80  \n",
       "14               0.80               0.60               0.90               0.80  \n",
       "47               0.65               0.70               0.95               0.85  \n",
       "41               0.65               0.70               0.95               0.85  \n",
       "44               0.65               0.70               0.95               0.85  \n",
       "38               0.65               0.70               0.95               0.85  \n",
       "50               0.60               0.65               0.90               0.85  \n",
       "53               0.60               0.65               0.90               0.85  \n",
       "56               0.60               0.65               0.90               0.85  \n",
       "59               0.60               0.65               0.90               0.85  \n",
       "9                0.65               0.65               0.80               0.70  \n",
       "6                0.60               0.65               0.60               0.60  \n",
       "10               0.55               0.55               0.55               0.55  \n",
       "8                0.55               0.55               0.55               0.55  \n",
       "7                0.55               0.55               0.55               0.55  \n",
       "5                0.55               0.55               0.55               0.55  \n",
       "4                0.55               0.55               0.55               0.55  \n",
       "3                0.55               0.55               0.55               0.55  \n",
       "2                0.55               0.55               0.55               0.55  \n",
       "1                0.55               0.55               0.55               0.55  \n",
       "11               0.55               0.55               0.55               0.55  \n",
       "0                0.55               0.55               0.55               0.55  "
      ],
      "text/html": "<div>\n<style scoped>\n    .dataframe tbody tr th:only-of-type {\n        vertical-align: middle;\n    }\n\n    .dataframe tbody tr th {\n        vertical-align: top;\n    }\n\n    .dataframe thead th {\n        text-align: right;\n    }\n</style>\n<table border=\"1\" class=\"dataframe\">\n  <thead>\n    <tr style=\"text-align: right;\">\n      <th></th>\n      <th>params</th>\n      <th>mean_test_score</th>\n      <th>std_test_score</th>\n      <th>split0_test_score</th>\n      <th>split1_test_score</th>\n      <th>split2_test_score</th>\n      <th>split3_test_score</th>\n      <th>split4_test_score</th>\n      <th>split5_test_score</th>\n      <th>split6_test_score</th>\n    </tr>\n  </thead>\n  <tbody>\n    <tr>\n      <th>51</th>\n      <td>{'C': 1000, 'degree': 2, 'kernel': 'poly'}</td>\n      <td>0.857143</td>\n      <td>0.108327</td>\n      <td>0.75</td>\n      <td>0.95</td>\n      <td>0.75</td>\n      <td>0.95</td>\n      <td>0.70</td>\n      <td>0.95</td>\n      <td>0.95</td>\n    </tr>\n    <tr>\n      <th>18</th>\n      <td>{'C': 1, 'degree': 3, 'kernel': 'poly'}</td>\n      <td>0.857143</td>\n      <td>0.104978</td>\n      <td>0.70</td>\n      <td>0.95</td>\n      <td>0.85</td>\n      <td>0.95</td>\n      <td>0.70</td>\n      <td>0.90</td>\n      <td>0.95</td>\n    </tr>\n    <tr>\n      <th>39</th>\n      <td>{'C': 100, 'degree': 2, 'kernel': 'poly'}</td>\n      <td>0.857143</td>\n      <td>0.108327</td>\n      <td>0.75</td>\n      <td>0.95</td>\n      <td>0.75</td>\n      <td>0.95</td>\n      <td>0.70</td>\n      <td>0.95</td>\n      <td>0.95</td>\n    </tr>\n    <tr>\n      <th>27</th>\n      <td>{'C': 10, 'degree': 2, 'kernel': 'poly'}</td>\n      <td>0.857143</td>\n      <td>0.108327</td>\n      <td>0.75</td>\n      <td>0.95</td>\n      <td>0.75</td>\n      <td>0.95</td>\n      <td>0.70</td>\n      <td>0.95</td>\n      <td>0.95</td>\n    </tr>\n    <tr>\n      <th>24</th>\n      <td>{'C': 10, 'degree': 1, 'kernel': 'poly'}</td>\n      <td>0.857143</td>\n      <td>0.094221</td>\n      <td>0.75</td>\n      <td>0.90</td>\n      <td>0.75</td>\n      <td>0.95</td>\n      <td>0.75</td>\n      <td>0.95</td>\n      <td>0.95</td>\n    </tr>\n    <tr>\n      <th>48</th>\n      <td>{'C': 1000, 'degree': 1, 'kernel': 'poly'}</td>\n      <td>0.857143</td>\n      <td>0.094221</td>\n      <td>0.75</td>\n      <td>0.90</td>\n      <td>0.75</td>\n      <td>0.95</td>\n      <td>0.75</td>\n      <td>0.95</td>\n      <td>0.95</td>\n    </tr>\n    <tr>\n      <th>36</th>\n      <td>{'C': 100, 'degree': 1, 'kernel': 'poly'}</td>\n      <td>0.857143</td>\n      <td>0.094221</td>\n      <td>0.75</td>\n      <td>0.90</td>\n      <td>0.75</td>\n      <td>0.95</td>\n      <td>0.75</td>\n      <td>0.95</td>\n      <td>0.95</td>\n    </tr>\n    <tr>\n      <th>46</th>\n      <td>{'C': 100, 'degree': 4, 'kernel': 'rbf'}</td>\n      <td>0.850000</td>\n      <td>0.122474</td>\n      <td>0.65</td>\n      <td>0.95</td>\n      <td>0.80</td>\n      <td>0.95</td>\n      <td>0.70</td>\n      <td>0.95</td>\n      <td>0.95</td>\n    </tr>\n    <tr>\n      <th>58</th>\n      <td>{'C': 1000, 'degree': 4, 'kernel': 'rbf'}</td>\n      <td>0.850000</td>\n      <td>0.122474</td>\n      <td>0.65</td>\n      <td>0.95</td>\n      <td>0.80</td>\n      <td>0.95</td>\n      <td>0.70</td>\n      <td>0.95</td>\n      <td>0.95</td>\n    </tr>\n    <tr>\n      <th>25</th>\n      <td>{'C': 10, 'degree': 1, 'kernel': 'rbf'}</td>\n      <td>0.850000</td>\n      <td>0.122474</td>\n      <td>0.65</td>\n      <td>0.95</td>\n      <td>0.80</td>\n      <td>0.95</td>\n      <td>0.70</td>\n      <td>0.95</td>\n      <td>0.95</td>\n    </tr>\n    <tr>\n      <th>30</th>\n      <td>{'C': 10, 'degree': 3, 'kernel': 'poly'}</td>\n      <td>0.850000</td>\n      <td>0.116496</td>\n      <td>0.70</td>\n      <td>0.95</td>\n      <td>0.85</td>\n      <td>0.95</td>\n      <td>0.65</td>\n      <td>0.90</td>\n      <td>0.95</td>\n    </tr>\n    <tr>\n      <th>21</th>\n      <td>{'C': 1, 'degree': 4, 'kernel': 'poly'}</td>\n      <td>0.850000</td>\n      <td>0.116496</td>\n      <td>0.70</td>\n      <td>0.95</td>\n      <td>0.85</td>\n      <td>0.95</td>\n      <td>0.65</td>\n      <td>0.90</td>\n      <td>0.95</td>\n    </tr>\n    <tr>\n      <th>31</th>\n      <td>{'C': 10, 'degree': 3, 'kernel': 'rbf'}</td>\n      <td>0.850000</td>\n      <td>0.122474</td>\n      <td>0.65</td>\n      <td>0.95</td>\n      <td>0.80</td>\n      <td>0.95</td>\n      <td>0.70</td>\n      <td>0.95</td>\n      <td>0.95</td>\n    </tr>\n    <tr>\n      <th>34</th>\n      <td>{'C': 10, 'degree': 4, 'kernel': 'rbf'}</td>\n      <td>0.850000</td>\n      <td>0.122474</td>\n      <td>0.65</td>\n      <td>0.95</td>\n      <td>0.80</td>\n      <td>0.95</td>\n      <td>0.70</td>\n      <td>0.95</td>\n      <td>0.95</td>\n    </tr>\n    <tr>\n      <th>28</th>\n      <td>{'C': 10, 'degree': 2, 'kernel': 'rbf'}</td>\n      <td>0.850000</td>\n      <td>0.122474</td>\n      <td>0.65</td>\n      <td>0.95</td>\n      <td>0.80</td>\n      <td>0.95</td>\n      <td>0.70</td>\n      <td>0.95</td>\n      <td>0.95</td>\n    </tr>\n    <tr>\n      <th>49</th>\n      <td>{'C': 1000, 'degree': 1, 'kernel': 'rbf'}</td>\n      <td>0.850000</td>\n      <td>0.122474</td>\n      <td>0.65</td>\n      <td>0.95</td>\n      <td>0.80</td>\n      <td>0.95</td>\n      <td>0.70</td>\n      <td>0.95</td>\n      <td>0.95</td>\n    </tr>\n    <tr>\n      <th>40</th>\n      <td>{'C': 100, 'degree': 2, 'kernel': 'rbf'}</td>\n      <td>0.850000</td>\n      <td>0.122474</td>\n      <td>0.65</td>\n      <td>0.95</td>\n      <td>0.80</td>\n      <td>0.95</td>\n      <td>0.70</td>\n      <td>0.95</td>\n      <td>0.95</td>\n    </tr>\n    <tr>\n      <th>52</th>\n      <td>{'C': 1000, 'degree': 2, 'kernel': 'rbf'}</td>\n      <td>0.850000</td>\n      <td>0.122474</td>\n      <td>0.65</td>\n      <td>0.95</td>\n      <td>0.80</td>\n      <td>0.95</td>\n      <td>0.70</td>\n      <td>0.95</td>\n      <td>0.95</td>\n    </tr>\n    <tr>\n      <th>42</th>\n      <td>{'C': 100, 'degree': 3, 'kernel': 'poly'}</td>\n      <td>0.850000</td>\n      <td>0.116496</td>\n      <td>0.70</td>\n      <td>0.95</td>\n      <td>0.85</td>\n      <td>0.95</td>\n      <td>0.65</td>\n      <td>0.90</td>\n      <td>0.95</td>\n    </tr>\n    <tr>\n      <th>54</th>\n      <td>{'C': 1000, 'degree': 3, 'kernel': 'poly'}</td>\n      <td>0.850000</td>\n      <td>0.116496</td>\n      <td>0.70</td>\n      <td>0.95</td>\n      <td>0.85</td>\n      <td>0.95</td>\n      <td>0.65</td>\n      <td>0.90</td>\n      <td>0.95</td>\n    </tr>\n    <tr>\n      <th>55</th>\n      <td>{'C': 1000, 'degree': 3, 'kernel': 'rbf'}</td>\n      <td>0.850000</td>\n      <td>0.122474</td>\n      <td>0.65</td>\n      <td>0.95</td>\n      <td>0.80</td>\n      <td>0.95</td>\n      <td>0.70</td>\n      <td>0.95</td>\n      <td>0.95</td>\n    </tr>\n    <tr>\n      <th>43</th>\n      <td>{'C': 100, 'degree': 3, 'kernel': 'rbf'}</td>\n      <td>0.850000</td>\n      <td>0.122474</td>\n      <td>0.65</td>\n      <td>0.95</td>\n      <td>0.80</td>\n      <td>0.95</td>\n      <td>0.70</td>\n      <td>0.95</td>\n      <td>0.95</td>\n    </tr>\n    <tr>\n      <th>37</th>\n      <td>{'C': 100, 'degree': 1, 'kernel': 'rbf'}</td>\n      <td>0.850000</td>\n      <td>0.122474</td>\n      <td>0.65</td>\n      <td>0.95</td>\n      <td>0.80</td>\n      <td>0.95</td>\n      <td>0.70</td>\n      <td>0.95</td>\n      <td>0.95</td>\n    </tr>\n    <tr>\n      <th>15</th>\n      <td>{'C': 1, 'degree': 2, 'kernel': 'poly'}</td>\n      <td>0.850000</td>\n      <td>0.116496</td>\n      <td>0.70</td>\n      <td>0.95</td>\n      <td>0.75</td>\n      <td>0.95</td>\n      <td>0.70</td>\n      <td>0.95</td>\n      <td>0.95</td>\n    </tr>\n    <tr>\n      <th>33</th>\n      <td>{'C': 10, 'degree': 4, 'kernel': 'poly'}</td>\n      <td>0.842857</td>\n      <td>0.129363</td>\n      <td>0.70</td>\n      <td>0.95</td>\n      <td>0.85</td>\n      <td>0.95</td>\n      <td>0.60</td>\n      <td>0.90</td>\n      <td>0.95</td>\n    </tr>\n    <tr>\n      <th>45</th>\n      <td>{'C': 100, 'degree': 4, 'kernel': 'poly'}</td>\n      <td>0.842857</td>\n      <td>0.129363</td>\n      <td>0.70</td>\n      <td>0.95</td>\n      <td>0.85</td>\n      <td>0.95</td>\n      <td>0.60</td>\n      <td>0.90</td>\n      <td>0.95</td>\n    </tr>\n    <tr>\n      <th>57</th>\n      <td>{'C': 1000, 'degree': 4, 'kernel': 'poly'}</td>\n      <td>0.842857</td>\n      <td>0.129363</td>\n      <td>0.70</td>\n      <td>0.95</td>\n      <td>0.85</td>\n      <td>0.95</td>\n      <td>0.60</td>\n      <td>0.90</td>\n      <td>0.95</td>\n    </tr>\n    <tr>\n      <th>32</th>\n      <td>{'C': 10, 'degree': 3, 'kernel': 'sigmoid'}</td>\n      <td>0.835714</td>\n      <td>0.105946</td>\n      <td>0.70</td>\n      <td>0.90</td>\n      <td>0.75</td>\n      <td>0.90</td>\n      <td>0.70</td>\n      <td>0.95</td>\n      <td>0.95</td>\n    </tr>\n    <tr>\n      <th>35</th>\n      <td>{'C': 10, 'degree': 4, 'kernel': 'sigmoid'}</td>\n      <td>0.835714</td>\n      <td>0.105946</td>\n      <td>0.70</td>\n      <td>0.90</td>\n      <td>0.75</td>\n      <td>0.90</td>\n      <td>0.70</td>\n      <td>0.95</td>\n      <td>0.95</td>\n    </tr>\n    <tr>\n      <th>29</th>\n      <td>{'C': 10, 'degree': 2, 'kernel': 'sigmoid'}</td>\n      <td>0.835714</td>\n      <td>0.105946</td>\n      <td>0.70</td>\n      <td>0.90</td>\n      <td>0.75</td>\n      <td>0.90</td>\n      <td>0.70</td>\n      <td>0.95</td>\n      <td>0.95</td>\n    </tr>\n    <tr>\n      <th>26</th>\n      <td>{'C': 10, 'degree': 1, 'kernel': 'sigmoid'}</td>\n      <td>0.835714</td>\n      <td>0.105946</td>\n      <td>0.70</td>\n      <td>0.90</td>\n      <td>0.75</td>\n      <td>0.90</td>\n      <td>0.70</td>\n      <td>0.95</td>\n      <td>0.95</td>\n    </tr>\n    <tr>\n      <th>22</th>\n      <td>{'C': 1, 'degree': 4, 'kernel': 'rbf'}</td>\n      <td>0.828571</td>\n      <td>0.095831</td>\n      <td>0.65</td>\n      <td>0.85</td>\n      <td>0.80</td>\n      <td>0.90</td>\n      <td>0.75</td>\n      <td>0.95</td>\n      <td>0.90</td>\n    </tr>\n    <tr>\n      <th>19</th>\n      <td>{'C': 1, 'degree': 3, 'kernel': 'rbf'}</td>\n      <td>0.828571</td>\n      <td>0.095831</td>\n      <td>0.65</td>\n      <td>0.85</td>\n      <td>0.80</td>\n      <td>0.90</td>\n      <td>0.75</td>\n      <td>0.95</td>\n      <td>0.90</td>\n    </tr>\n    <tr>\n      <th>16</th>\n      <td>{'C': 1, 'degree': 2, 'kernel': 'rbf'}</td>\n      <td>0.828571</td>\n      <td>0.095831</td>\n      <td>0.65</td>\n      <td>0.85</td>\n      <td>0.80</td>\n      <td>0.90</td>\n      <td>0.75</td>\n      <td>0.95</td>\n      <td>0.90</td>\n    </tr>\n    <tr>\n      <th>13</th>\n      <td>{'C': 1, 'degree': 1, 'kernel': 'rbf'}</td>\n      <td>0.828571</td>\n      <td>0.095831</td>\n      <td>0.65</td>\n      <td>0.85</td>\n      <td>0.80</td>\n      <td>0.90</td>\n      <td>0.75</td>\n      <td>0.95</td>\n      <td>0.90</td>\n    </tr>\n    <tr>\n      <th>12</th>\n      <td>{'C': 1, 'degree': 1, 'kernel': 'poly'}</td>\n      <td>0.821429</td>\n      <td>0.127775</td>\n      <td>0.60</td>\n      <td>0.90</td>\n      <td>0.70</td>\n      <td>0.95</td>\n      <td>0.75</td>\n      <td>0.95</td>\n      <td>0.90</td>\n    </tr>\n    <tr>\n      <th>23</th>\n      <td>{'C': 1, 'degree': 4, 'kernel': 'sigmoid'}</td>\n      <td>0.735714</td>\n      <td>0.115617</td>\n      <td>0.55</td>\n      <td>0.80</td>\n      <td>0.70</td>\n      <td>0.80</td>\n      <td>0.60</td>\n      <td>0.90</td>\n      <td>0.80</td>\n    </tr>\n    <tr>\n      <th>17</th>\n      <td>{'C': 1, 'degree': 2, 'kernel': 'sigmoid'}</td>\n      <td>0.735714</td>\n      <td>0.115617</td>\n      <td>0.55</td>\n      <td>0.80</td>\n      <td>0.70</td>\n      <td>0.80</td>\n      <td>0.60</td>\n      <td>0.90</td>\n      <td>0.80</td>\n    </tr>\n    <tr>\n      <th>20</th>\n      <td>{'C': 1, 'degree': 3, 'kernel': 'sigmoid'}</td>\n      <td>0.735714</td>\n      <td>0.115617</td>\n      <td>0.55</td>\n      <td>0.80</td>\n      <td>0.70</td>\n      <td>0.80</td>\n      <td>0.60</td>\n      <td>0.90</td>\n      <td>0.80</td>\n    </tr>\n    <tr>\n      <th>14</th>\n      <td>{'C': 1, 'degree': 1, 'kernel': 'sigmoid'}</td>\n      <td>0.735714</td>\n      <td>0.115617</td>\n      <td>0.55</td>\n      <td>0.80</td>\n      <td>0.70</td>\n      <td>0.80</td>\n      <td>0.60</td>\n      <td>0.90</td>\n      <td>0.80</td>\n    </tr>\n    <tr>\n      <th>47</th>\n      <td>{'C': 100, 'degree': 4, 'kernel': 'sigmoid'}</td>\n      <td>0.728571</td>\n      <td>0.116058</td>\n      <td>0.60</td>\n      <td>0.65</td>\n      <td>0.70</td>\n      <td>0.65</td>\n      <td>0.70</td>\n      <td>0.95</td>\n      <td>0.85</td>\n    </tr>\n    <tr>\n      <th>41</th>\n      <td>{'C': 100, 'degree': 2, 'kernel': 'sigmoid'}</td>\n      <td>0.728571</td>\n      <td>0.116058</td>\n      <td>0.60</td>\n      <td>0.65</td>\n      <td>0.70</td>\n      <td>0.65</td>\n      <td>0.70</td>\n      <td>0.95</td>\n      <td>0.85</td>\n    </tr>\n    <tr>\n      <th>44</th>\n      <td>{'C': 100, 'degree': 3, 'kernel': 'sigmoid'}</td>\n      <td>0.728571</td>\n      <td>0.116058</td>\n      <td>0.60</td>\n      <td>0.65</td>\n      <td>0.70</td>\n      <td>0.65</td>\n      <td>0.70</td>\n      <td>0.95</td>\n      <td>0.85</td>\n    </tr>\n    <tr>\n      <th>38</th>\n      <td>{'C': 100, 'degree': 1, 'kernel': 'sigmoid'}</td>\n      <td>0.728571</td>\n      <td>0.116058</td>\n      <td>0.60</td>\n      <td>0.65</td>\n      <td>0.70</td>\n      <td>0.65</td>\n      <td>0.70</td>\n      <td>0.95</td>\n      <td>0.85</td>\n    </tr>\n    <tr>\n      <th>50</th>\n      <td>{'C': 1000, 'degree': 1, 'kernel': 'sigmoid'}</td>\n      <td>0.707143</td>\n      <td>0.117803</td>\n      <td>0.55</td>\n      <td>0.70</td>\n      <td>0.70</td>\n      <td>0.60</td>\n      <td>0.65</td>\n      <td>0.90</td>\n      <td>0.85</td>\n    </tr>\n    <tr>\n      <th>53</th>\n      <td>{'C': 1000, 'degree': 2, 'kernel': 'sigmoid'}</td>\n      <td>0.707143</td>\n      <td>0.117803</td>\n      <td>0.55</td>\n      <td>0.70</td>\n      <td>0.70</td>\n      <td>0.60</td>\n      <td>0.65</td>\n      <td>0.90</td>\n      <td>0.85</td>\n    </tr>\n    <tr>\n      <th>56</th>\n      <td>{'C': 1000, 'degree': 3, 'kernel': 'sigmoid'}</td>\n      <td>0.707143</td>\n      <td>0.117803</td>\n      <td>0.55</td>\n      <td>0.70</td>\n      <td>0.70</td>\n      <td>0.60</td>\n      <td>0.65</td>\n      <td>0.90</td>\n      <td>0.85</td>\n    </tr>\n    <tr>\n      <th>59</th>\n      <td>{'C': 1000, 'degree': 4, 'kernel': 'sigmoid'}</td>\n      <td>0.707143</td>\n      <td>0.117803</td>\n      <td>0.55</td>\n      <td>0.70</td>\n      <td>0.70</td>\n      <td>0.60</td>\n      <td>0.65</td>\n      <td>0.90</td>\n      <td>0.85</td>\n    </tr>\n    <tr>\n      <th>9</th>\n      <td>{'C': 0.1, 'degree': 4, 'kernel': 'poly'}</td>\n      <td>0.657143</td>\n      <td>0.082065</td>\n      <td>0.55</td>\n      <td>0.70</td>\n      <td>0.55</td>\n      <td>0.65</td>\n      <td>0.65</td>\n      <td>0.80</td>\n      <td>0.70</td>\n    </tr>\n    <tr>\n      <th>6</th>\n      <td>{'C': 0.1, 'degree': 3, 'kernel': 'poly'}</td>\n      <td>0.592857</td>\n      <td>0.031944</td>\n      <td>0.55</td>\n      <td>0.55</td>\n      <td>0.60</td>\n      <td>0.60</td>\n      <td>0.65</td>\n      <td>0.60</td>\n      <td>0.60</td>\n    </tr>\n    <tr>\n      <th>10</th>\n      <td>{'C': 0.1, 'degree': 4, 'kernel': 'rbf'}</td>\n      <td>0.535714</td>\n      <td>0.022588</td>\n      <td>0.50</td>\n      <td>0.50</td>\n      <td>0.55</td>\n      <td>0.55</td>\n      <td>0.55</td>\n      <td>0.55</td>\n      <td>0.55</td>\n    </tr>\n    <tr>\n      <th>8</th>\n      <td>{'C': 0.1, 'degree': 3, 'kernel': 'sigmoid'}</td>\n      <td>0.535714</td>\n      <td>0.022588</td>\n      <td>0.50</td>\n      <td>0.50</td>\n      <td>0.55</td>\n      <td>0.55</td>\n      <td>0.55</td>\n      <td>0.55</td>\n      <td>0.55</td>\n    </tr>\n    <tr>\n      <th>7</th>\n      <td>{'C': 0.1, 'degree': 3, 'kernel': 'rbf'}</td>\n      <td>0.535714</td>\n      <td>0.022588</td>\n      <td>0.50</td>\n      <td>0.50</td>\n      <td>0.55</td>\n      <td>0.55</td>\n      <td>0.55</td>\n      <td>0.55</td>\n      <td>0.55</td>\n    </tr>\n    <tr>\n      <th>5</th>\n      <td>{'C': 0.1, 'degree': 2, 'kernel': 'sigmoid'}</td>\n      <td>0.535714</td>\n      <td>0.022588</td>\n      <td>0.50</td>\n      <td>0.50</td>\n      <td>0.55</td>\n      <td>0.55</td>\n      <td>0.55</td>\n      <td>0.55</td>\n      <td>0.55</td>\n    </tr>\n    <tr>\n      <th>4</th>\n      <td>{'C': 0.1, 'degree': 2, 'kernel': 'rbf'}</td>\n      <td>0.535714</td>\n      <td>0.022588</td>\n      <td>0.50</td>\n      <td>0.50</td>\n      <td>0.55</td>\n      <td>0.55</td>\n      <td>0.55</td>\n      <td>0.55</td>\n      <td>0.55</td>\n    </tr>\n    <tr>\n      <th>3</th>\n      <td>{'C': 0.1, 'degree': 2, 'kernel': 'poly'}</td>\n      <td>0.535714</td>\n      <td>0.022588</td>\n      <td>0.50</td>\n      <td>0.50</td>\n      <td>0.55</td>\n      <td>0.55</td>\n      <td>0.55</td>\n      <td>0.55</td>\n      <td>0.55</td>\n    </tr>\n    <tr>\n      <th>2</th>\n      <td>{'C': 0.1, 'degree': 1, 'kernel': 'sigmoid'}</td>\n      <td>0.535714</td>\n      <td>0.022588</td>\n      <td>0.50</td>\n      <td>0.50</td>\n      <td>0.55</td>\n      <td>0.55</td>\n      <td>0.55</td>\n      <td>0.55</td>\n      <td>0.55</td>\n    </tr>\n    <tr>\n      <th>1</th>\n      <td>{'C': 0.1, 'degree': 1, 'kernel': 'rbf'}</td>\n      <td>0.535714</td>\n      <td>0.022588</td>\n      <td>0.50</td>\n      <td>0.50</td>\n      <td>0.55</td>\n      <td>0.55</td>\n      <td>0.55</td>\n      <td>0.55</td>\n      <td>0.55</td>\n    </tr>\n    <tr>\n      <th>11</th>\n      <td>{'C': 0.1, 'degree': 4, 'kernel': 'sigmoid'}</td>\n      <td>0.535714</td>\n      <td>0.022588</td>\n      <td>0.50</td>\n      <td>0.50</td>\n      <td>0.55</td>\n      <td>0.55</td>\n      <td>0.55</td>\n      <td>0.55</td>\n      <td>0.55</td>\n    </tr>\n    <tr>\n      <th>0</th>\n      <td>{'C': 0.1, 'degree': 1, 'kernel': 'poly'}</td>\n      <td>0.535714</td>\n      <td>0.022588</td>\n      <td>0.50</td>\n      <td>0.50</td>\n      <td>0.55</td>\n      <td>0.55</td>\n      <td>0.55</td>\n      <td>0.55</td>\n      <td>0.55</td>\n    </tr>\n  </tbody>\n</table>\n</div>"
     },
     "metadata": {},
     "execution_count": 66
    }
   ],
   "source": [
    "# SVC.\n",
    "svc = SVC()\n",
    "svc_params = {\"C\": [0.1, 1, 10, 100, 1000], \"kernel\": (\"poly\", \"rbf\", \"sigmoid\"), \"degree\": [1,2,3,4]}\n",
    "cross_validate(svc, svc_params)"
   ]
  },
  {
   "cell_type": "code",
   "execution_count": 71,
   "metadata": {},
   "outputs": [
    {
     "output_type": "stream",
     "name": "stdout",
     "text": [
      "Accuracy: 1.00\nRecall: 75/75 (1.00)\nPrecision: 75/75 (1.00)\n\n"
     ]
    },
    {
     "output_type": "execute_result",
     "data": {
      "text/plain": [
       "                                                                                                      params  \\\n",
       "51   {'alpha': 0.001, 'l1_ratio': 0.15, 'loss': 'modified_huber', 'max_iter': 1000, 'penalty': 'elasticnet'}   \n",
       "64   {'alpha': 0.001, 'l1_ratio': 0.5, 'loss': 'modified_huber', 'max_iter': 10000, 'penalty': 'elasticnet'}   \n",
       "38               {'alpha': 0.01, 'l1_ratio': 0.5, 'loss': 'log', 'max_iter': 20000, 'penalty': 'elasticnet'}   \n",
       "24               {'alpha': 0.01, 'l1_ratio': 0.15, 'loss': 'log', 'max_iter': 1000, 'penalty': 'elasticnet'}   \n",
       "53  {'alpha': 0.001, 'l1_ratio': 0.15, 'loss': 'modified_huber', 'max_iter': 20000, 'penalty': 'elasticnet'}   \n",
       "..                                                                                                       ...   \n",
       "18                 {'alpha': 0.1, 'l1_ratio': 0.7, 'loss': 'log', 'max_iter': 1000, 'penalty': 'elasticnet'}   \n",
       "19                {'alpha': 0.1, 'l1_ratio': 0.7, 'loss': 'log', 'max_iter': 10000, 'penalty': 'elasticnet'}   \n",
       "20                {'alpha': 0.1, 'l1_ratio': 0.7, 'loss': 'log', 'max_iter': 20000, 'penalty': 'elasticnet'}   \n",
       "12                 {'alpha': 0.1, 'l1_ratio': 0.5, 'loss': 'log', 'max_iter': 1000, 'penalty': 'elasticnet'}   \n",
       "14                {'alpha': 0.1, 'l1_ratio': 0.5, 'loss': 'log', 'max_iter': 20000, 'penalty': 'elasticnet'}   \n",
       "\n",
       "    mean_test_score  std_test_score  split0_test_score  split1_test_score  \\\n",
       "51         0.857143        0.111575               0.80               0.95   \n",
       "64         0.857143        0.108327               0.65               0.95   \n",
       "38         0.857143        0.086307               0.70               0.80   \n",
       "24         0.850000        0.119523               0.60               0.95   \n",
       "53         0.842857        0.104978               0.65               0.90   \n",
       "..              ...             ...                ...                ...   \n",
       "18         0.535714        0.022588               0.50               0.50   \n",
       "19         0.535714        0.022588               0.50               0.50   \n",
       "20         0.535714        0.022588               0.50               0.50   \n",
       "12         0.535714        0.022588               0.50               0.50   \n",
       "14         0.535714        0.022588               0.50               0.50   \n",
       "\n",
       "    split2_test_score  split3_test_score  split4_test_score  \\\n",
       "51               0.70               0.95               0.70   \n",
       "64               0.85               0.95               0.75   \n",
       "38               0.90               0.95               0.80   \n",
       "24               0.90               0.90               0.75   \n",
       "53               0.80               0.95               0.75   \n",
       "..                ...                ...                ...   \n",
       "18               0.55               0.55               0.55   \n",
       "19               0.55               0.55               0.55   \n",
       "20               0.55               0.55               0.55   \n",
       "12               0.55               0.55               0.55   \n",
       "14               0.55               0.55               0.55   \n",
       "\n",
       "    split5_test_score  split6_test_score  \n",
       "51               0.95               0.95  \n",
       "64               0.90               0.95  \n",
       "38               0.95               0.90  \n",
       "24               0.90               0.95  \n",
       "53               0.95               0.90  \n",
       "..                ...                ...  \n",
       "18               0.55               0.55  \n",
       "19               0.55               0.55  \n",
       "20               0.55               0.55  \n",
       "12               0.55               0.55  \n",
       "14               0.55               0.55  \n",
       "\n",
       "[72 rows x 10 columns]"
      ],
      "text/html": "<div>\n<style scoped>\n    .dataframe tbody tr th:only-of-type {\n        vertical-align: middle;\n    }\n\n    .dataframe tbody tr th {\n        vertical-align: top;\n    }\n\n    .dataframe thead th {\n        text-align: right;\n    }\n</style>\n<table border=\"1\" class=\"dataframe\">\n  <thead>\n    <tr style=\"text-align: right;\">\n      <th></th>\n      <th>params</th>\n      <th>mean_test_score</th>\n      <th>std_test_score</th>\n      <th>split0_test_score</th>\n      <th>split1_test_score</th>\n      <th>split2_test_score</th>\n      <th>split3_test_score</th>\n      <th>split4_test_score</th>\n      <th>split5_test_score</th>\n      <th>split6_test_score</th>\n    </tr>\n  </thead>\n  <tbody>\n    <tr>\n      <th>51</th>\n      <td>{'alpha': 0.001, 'l1_ratio': 0.15, 'loss': 'modified_huber', 'max_iter': 1000, 'penalty': 'elasticnet'}</td>\n      <td>0.857143</td>\n      <td>0.111575</td>\n      <td>0.80</td>\n      <td>0.95</td>\n      <td>0.70</td>\n      <td>0.95</td>\n      <td>0.70</td>\n      <td>0.95</td>\n      <td>0.95</td>\n    </tr>\n    <tr>\n      <th>64</th>\n      <td>{'alpha': 0.001, 'l1_ratio': 0.5, 'loss': 'modified_huber', 'max_iter': 10000, 'penalty': 'elasticnet'}</td>\n      <td>0.857143</td>\n      <td>0.108327</td>\n      <td>0.65</td>\n      <td>0.95</td>\n      <td>0.85</td>\n      <td>0.95</td>\n      <td>0.75</td>\n      <td>0.90</td>\n      <td>0.95</td>\n    </tr>\n    <tr>\n      <th>38</th>\n      <td>{'alpha': 0.01, 'l1_ratio': 0.5, 'loss': 'log', 'max_iter': 20000, 'penalty': 'elasticnet'}</td>\n      <td>0.857143</td>\n      <td>0.086307</td>\n      <td>0.70</td>\n      <td>0.80</td>\n      <td>0.90</td>\n      <td>0.95</td>\n      <td>0.80</td>\n      <td>0.95</td>\n      <td>0.90</td>\n    </tr>\n    <tr>\n      <th>24</th>\n      <td>{'alpha': 0.01, 'l1_ratio': 0.15, 'loss': 'log', 'max_iter': 1000, 'penalty': 'elasticnet'}</td>\n      <td>0.850000</td>\n      <td>0.119523</td>\n      <td>0.60</td>\n      <td>0.95</td>\n      <td>0.90</td>\n      <td>0.90</td>\n      <td>0.75</td>\n      <td>0.90</td>\n      <td>0.95</td>\n    </tr>\n    <tr>\n      <th>53</th>\n      <td>{'alpha': 0.001, 'l1_ratio': 0.15, 'loss': 'modified_huber', 'max_iter': 20000, 'penalty': 'elasticnet'}</td>\n      <td>0.842857</td>\n      <td>0.104978</td>\n      <td>0.65</td>\n      <td>0.90</td>\n      <td>0.80</td>\n      <td>0.95</td>\n      <td>0.75</td>\n      <td>0.95</td>\n      <td>0.90</td>\n    </tr>\n    <tr>\n      <th>...</th>\n      <td>...</td>\n      <td>...</td>\n      <td>...</td>\n      <td>...</td>\n      <td>...</td>\n      <td>...</td>\n      <td>...</td>\n      <td>...</td>\n      <td>...</td>\n      <td>...</td>\n    </tr>\n    <tr>\n      <th>18</th>\n      <td>{'alpha': 0.1, 'l1_ratio': 0.7, 'loss': 'log', 'max_iter': 1000, 'penalty': 'elasticnet'}</td>\n      <td>0.535714</td>\n      <td>0.022588</td>\n      <td>0.50</td>\n      <td>0.50</td>\n      <td>0.55</td>\n      <td>0.55</td>\n      <td>0.55</td>\n      <td>0.55</td>\n      <td>0.55</td>\n    </tr>\n    <tr>\n      <th>19</th>\n      <td>{'alpha': 0.1, 'l1_ratio': 0.7, 'loss': 'log', 'max_iter': 10000, 'penalty': 'elasticnet'}</td>\n      <td>0.535714</td>\n      <td>0.022588</td>\n      <td>0.50</td>\n      <td>0.50</td>\n      <td>0.55</td>\n      <td>0.55</td>\n      <td>0.55</td>\n      <td>0.55</td>\n      <td>0.55</td>\n    </tr>\n    <tr>\n      <th>20</th>\n      <td>{'alpha': 0.1, 'l1_ratio': 0.7, 'loss': 'log', 'max_iter': 20000, 'penalty': 'elasticnet'}</td>\n      <td>0.535714</td>\n      <td>0.022588</td>\n      <td>0.50</td>\n      <td>0.50</td>\n      <td>0.55</td>\n      <td>0.55</td>\n      <td>0.55</td>\n      <td>0.55</td>\n      <td>0.55</td>\n    </tr>\n    <tr>\n      <th>12</th>\n      <td>{'alpha': 0.1, 'l1_ratio': 0.5, 'loss': 'log', 'max_iter': 1000, 'penalty': 'elasticnet'}</td>\n      <td>0.535714</td>\n      <td>0.022588</td>\n      <td>0.50</td>\n      <td>0.50</td>\n      <td>0.55</td>\n      <td>0.55</td>\n      <td>0.55</td>\n      <td>0.55</td>\n      <td>0.55</td>\n    </tr>\n    <tr>\n      <th>14</th>\n      <td>{'alpha': 0.1, 'l1_ratio': 0.5, 'loss': 'log', 'max_iter': 20000, 'penalty': 'elasticnet'}</td>\n      <td>0.535714</td>\n      <td>0.022588</td>\n      <td>0.50</td>\n      <td>0.50</td>\n      <td>0.55</td>\n      <td>0.55</td>\n      <td>0.55</td>\n      <td>0.55</td>\n      <td>0.55</td>\n    </tr>\n  </tbody>\n</table>\n<p>72 rows × 10 columns</p>\n</div>"
     },
     "metadata": {},
     "execution_count": 71
    }
   ],
   "source": [
    "# Elastic Net.\n",
    "eln = SGDClassifier()\n",
    "eln_params = {\"loss\": [\"log\", \"modified_huber\"], \"alpha\": [0.1, 0.01, 0.001], \"penalty\": [\"elasticnet\"], \"l1_ratio\": [0.15, 0.25, 0.5, 0.7], \"max_iter\": [1000, 10000, 20000]}\n",
    "cross_validate(eln, eln_params)"
   ]
  },
  {
   "source": [
    "## Observations"
   ],
   "cell_type": "markdown",
   "metadata": {}
  },
  {
   "source": [
    "- 1. KNN\n",
    "\n",
    "Mean test score is best at 3 neighbors (71 += 6 %). Single and 5 neighbors produce similar and slightly worse scores (70 += 8 %). Interestingly the score falls sharply for 2 neighbors to (61 += 10 %) and 4 neighbors (61 += 7 %). There are always weak and strong folds: 55 - 85 %, hence large std.\n",
    "\n",
    "Hyperparamters `p` and `weigths` don't affect results in a significant way.\n",
    "\n",
    "\n",
    "- 2. Naive Bayes\n",
    "\n",
    "Independantly of the `var_smoothing` hyperparameter the perfomance is consistently (79 += 9 %). Again, a large variance is obsererved. Weak folds get 65 to 70 percent and strong ones up to 90 % accuracy.\n",
    "\n",
    "- 3. Random Forest\n",
    "\n",
    "Random forests achieve 80 % accuracy, but the variance is large 10 - 13 %. Some folds are classified hundred percent correctly. The effect of hyperparameters results in about 4 % diffence, which is only third of variance.\n",
    "\n",
    "- 4. SVC\n",
    "\n",
    "Low polynomial kernels perform the best. They are not particularly sensitive to choice of `C` and `degree=[1,2,3]`. The accuracy is (85 += 10 %). A clear pattern of easy and hard folds can be observed. Four folds get 95 % accuracy and three 70 - 75 % accuracy.\n",
    "\n",
    "- 5. Elastic Net alá logistic regression\n",
    "\n",
    "This classifier proved to be the best with accuracy (87 += 8 %). It adds two percent to mean and sheds two percent from std in comparison to SVC. The `hinge` loss for Elastic net is actually equivalent to linear SVC, while the `log` loss gives logistic regression. Generally, the folds are not strictly weak or strong. Ussually, we get a weak one, one or two middle ones and then strong ones."
   ],
   "cell_type": "markdown",
   "metadata": {}
  }
 ],
 "metadata": {
  "kernelspec": {
   "name": "python376jvsc74a57bd09c40931cbb4a31228df7bc840fc8745c5509fc7c9b0d60dae36a005e5fe0dba9",
   "display_name": "Python 3.7.6 64-bit ('.venv': venv)"
  },
  "language_info": {
   "codemirror_mode": {
    "name": "ipython",
    "version": 3
   },
   "file_extension": ".py",
   "mimetype": "text/x-python",
   "name": "python",
   "nbconvert_exporter": "python",
   "pygments_lexer": "ipython3",
   "version": "3.7.6"
  },
  "metadata": {
   "interpreter": {
    "hash": "b645526185d99215aa93b35893ebde63767219db82c922476bfeda3d99cf53d5"
   }
  }
 },
 "nbformat": 4,
 "nbformat_minor": 4
}