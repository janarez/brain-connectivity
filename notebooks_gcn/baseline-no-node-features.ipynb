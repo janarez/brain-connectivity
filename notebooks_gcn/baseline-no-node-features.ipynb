{
 "metadata": {
  "language_info": {
   "codemirror_mode": {
    "name": "ipython",
    "version": 3
   },
   "file_extension": ".py",
   "mimetype": "text/x-python",
   "name": "python",
   "nbconvert_exporter": "python",
   "pygments_lexer": "ipython3",
   "version": "3.7.6"
  },
  "orig_nbformat": 2,
  "kernelspec": {
   "name": "python376jvsc74a57bd09c40931cbb4a31228df7bc840fc8745c5509fc7c9b0d60dae36a005e5fe0dba9",
   "display_name": "Python 3.7.6 64-bit ('.venv': venv)"
  }
 },
 "nbformat": 4,
 "nbformat_minor": 2,
 "cells": [
  {
   "source": [
    "# Graph Neural Networks Baseline\n",
    "### without timeseries as node features\n"
   ],
   "cell_type": "markdown",
   "metadata": {}
  },
  {
   "cell_type": "code",
   "execution_count": 55,
   "metadata": {},
   "outputs": [],
   "source": [
    "import numpy as np\n",
    "import pickle\n",
    "import pandas as pd \n",
    "import matplotlib.pyplot as plt"
   ]
  },
  {
   "cell_type": "code",
   "execution_count": 56,
   "metadata": {},
   "outputs": [],
   "source": [
    "import torch\n",
    "import torch.nn.functional as F\n",
    "from torch.nn import Linear"
   ]
  },
  {
   "cell_type": "code",
   "execution_count": 3,
   "metadata": {},
   "outputs": [],
   "source": [
    "from torch_geometric.nn import GCNConv, global_mean_pool, global_add_pool\n",
    "from torch_geometric.data import Data, DataLoader"
   ]
  },
  {
   "cell_type": "code",
   "execution_count": 4,
   "metadata": {},
   "outputs": [],
   "source": [
    "from torch.utils.tensorboard import SummaryWriter"
   ]
  },
  {
   "cell_type": "code",
   "execution_count": 5,
   "metadata": {},
   "outputs": [],
   "source": [
    "from sklearn.model_selection import StratifiedKFold"
   ]
  },
  {
   "source": [
    "## Load data"
   ],
   "cell_type": "markdown",
   "metadata": {}
  },
  {
   "cell_type": "code",
   "execution_count": 6,
   "metadata": {},
   "outputs": [],
   "source": [
    "DATA_FOLDER = '../data'\n",
    "PICKLE_FOLDER = '../pickles'"
   ]
  },
  {
   "cell_type": "code",
   "execution_count": 7,
   "metadata": {},
   "outputs": [],
   "source": [
    "df_metadata = pd.read_csv(f'{DATA_FOLDER}/patients-cleaned.csv', index_col=0)"
   ]
  },
  {
   "cell_type": "code",
   "execution_count": 8,
   "metadata": {},
   "outputs": [
    {
     "output_type": "execute_result",
     "data": {
      "text/plain": [
       "      age  sex  target\n",
       "0  24.750    1       0\n",
       "1  27.667    1       0"
      ],
      "text/html": "<div>\n<style scoped>\n    .dataframe tbody tr th:only-of-type {\n        vertical-align: middle;\n    }\n\n    .dataframe tbody tr th {\n        vertical-align: top;\n    }\n\n    .dataframe thead th {\n        text-align: right;\n    }\n</style>\n<table border=\"1\" class=\"dataframe\">\n  <thead>\n    <tr style=\"text-align: right;\">\n      <th></th>\n      <th>age</th>\n      <th>sex</th>\n      <th>target</th>\n    </tr>\n  </thead>\n  <tbody>\n    <tr>\n      <th>0</th>\n      <td>24.750</td>\n      <td>1</td>\n      <td>0</td>\n    </tr>\n    <tr>\n      <th>1</th>\n      <td>27.667</td>\n      <td>1</td>\n      <td>0</td>\n    </tr>\n  </tbody>\n</table>\n</div>"
     },
     "metadata": {},
     "execution_count": 8
    }
   ],
   "source": [
    "df_metadata.head(2)"
   ]
  },
  {
   "source": [
    "### Select connectivity dataset"
   ],
   "cell_type": "markdown",
   "metadata": {}
  },
  {
   "cell_type": "code",
   "execution_count": 17,
   "metadata": {},
   "outputs": [],
   "source": [
    "THRESHOLD = 0.1                         # 0.01, 0.05, 0.1, 0.15\n",
    "N = 5                                   # 3, 5, 7, 10, 15, 20, 40\n",
    "EDGE_FEATURES = 'binary'                # 'binary', 'real'\n",
    "CORR_TYPE = 'pearson'                   # 'pearson', 'spearman', 'partial-pearson'\n",
    "THRESHOLD_METHOD = 'abs-sample-diff'    # 'abs-sample-diff', 'abs-group-avg-diff'\n",
    "THRESHOLD_TYPE = 'large'                # 'min', 'max' or for kNN 'small', 'large'\n",
    "KNN = True                              # Whether all or only top N neigbors are taken"
   ]
  },
  {
   "cell_type": "code",
   "execution_count": 18,
   "metadata": {},
   "outputs": [],
   "source": [
    "fc_folder = f'{PICKLE_FOLDER}/fc-{CORR_TYPE}{\"-knn-\" if KNN else \"\"}{THRESHOLD_METHOD}'"
   ]
  },
  {
   "cell_type": "code",
   "execution_count": 19,
   "metadata": {},
   "outputs": [],
   "source": [
    "\n",
    "fc_file = f'{fc_folder}/{THRESHOLD_TYPE}-{f\"knn-{N}\" if KNN else f\"th-{THRESHOLD}\"}-{EDGE_FEATURES}.pickle'"
   ]
  },
  {
   "cell_type": "code",
   "execution_count": 20,
   "metadata": {},
   "outputs": [],
   "source": [
    "with open(fc_file, 'rb') as f:\n",
    "    edge_index_matrix = pickle.load(f)"
   ]
  },
  {
   "cell_type": "code",
   "execution_count": 21,
   "metadata": {},
   "outputs": [
    {
     "output_type": "execute_result",
     "data": {
      "text/plain": [
       "(190, 90, 90)"
      ]
     },
     "metadata": {},
     "execution_count": 21
    }
   ],
   "source": [
    "edge_index_matrix.shape"
   ]
  },
  {
   "cell_type": "code",
   "execution_count": 22,
   "metadata": {},
   "outputs": [],
   "source": [
    "total_samples, total_brain_regions, _ = edge_index_matrix.shape"
   ]
  },
  {
   "source": [
    "## Split data"
   ],
   "cell_type": "markdown",
   "metadata": {}
  },
  {
   "cell_type": "code",
   "execution_count": 23,
   "metadata": {},
   "outputs": [],
   "source": [
    "with open(f'{PICKLE_FOLDER}/test-indices.pickle', 'rb') as f:\n",
    "    test_indices = pickle.load(f)"
   ]
  },
  {
   "cell_type": "code",
   "execution_count": 24,
   "metadata": {},
   "outputs": [],
   "source": [
    "train_indices = list(set(range(total_samples)) - set(test_indices))"
   ]
  },
  {
   "cell_type": "code",
   "execution_count": 25,
   "metadata": {},
   "outputs": [],
   "source": [
    "train_targets = df_metadata.iloc[train_indices][\"target\"].reset_index(drop=True)"
   ]
  },
  {
   "cell_type": "code",
   "execution_count": 26,
   "metadata": {},
   "outputs": [
    {
     "output_type": "stream",
     "name": "stdout",
     "text": [
      "Train set size: 140\nTest set size: 50\n"
     ]
    }
   ],
   "source": [
    "print(f'Train set size: {len(train_indices)}')\n",
    "print(f'Test set size: {len(test_indices)}')"
   ]
  },
  {
   "source": [
    "## Prepare data"
   ],
   "cell_type": "markdown",
   "metadata": {}
  },
  {
   "cell_type": "code",
   "execution_count": 27,
   "metadata": {},
   "outputs": [
    {
     "output_type": "execute_result",
     "data": {
      "text/plain": [
       "device(type='cuda')"
      ]
     },
     "metadata": {},
     "execution_count": 27
    }
   ],
   "source": [
    "device = torch.device('cuda' if torch.cuda.is_available() else 'cpu')\n",
    "device"
   ]
  },
  {
   "source": [
    "### `Data` object fields\n",
    "\n",
    "- `data.x`: Node feature matrix with shape `[num_nodes, num_node_features]`\n",
    "\n",
    "- `data.edge_index`: Graph connectivity in COO format with shape `[2, num_edges]` and type `torch.long`\n",
    "\n",
    "- `data.edge_attr`: Edge feature matrix with shape `[num_edges, num_edge_features]`\n",
    "\n",
    "- `data.y`: Target to train against (may have arbitrary shape), e.g., node-level targets of shape `[num_nodes, *]` or graph-level targets of shape `[1, *]`\n",
    "\n",
    "- `data.pos`: Node position matrix with shape `[num_nodes, num_dimensions]`"
   ],
   "cell_type": "markdown",
   "metadata": {}
  },
  {
   "cell_type": "code",
   "execution_count": 29,
   "metadata": {},
   "outputs": [],
   "source": [
    "dataset = [Data(\n",
    "    x=torch.ones([90, 1], dtype=torch.float32),  \n",
    "    edge_index=torch.from_numpy(np.asarray(np.nonzero(edge_index_matrix[i]))).to(torch.int64),\n",
    "    y=torch.tensor([target], dtype=torch.int64)\n",
    ").to(device) for target, i in zip(train_targets, train_indices)]"
   ]
  },
  {
   "cell_type": "code",
   "execution_count": 30,
   "metadata": {},
   "outputs": [
    {
     "output_type": "stream",
     "name": "stdout",
     "text": [
      "Data object\nEdge index: torch.Size([2, 90])\nNode features: torch.Size([90, 1])\nTarget: torch.Size([1])\n"
     ]
    }
   ],
   "source": [
    "print('Data object')\n",
    "print(f'Edge index: {dataset[0].edge_index.shape}')\n",
    "print(f'Node features: {dataset[0].x.shape}')\n",
    "print(f'Target: {dataset[0].y.shape}')"
   ]
  },
  {
   "source": [
    "## Define model"
   ],
   "cell_type": "markdown",
   "metadata": {}
  },
  {
   "cell_type": "code",
   "execution_count": 31,
   "metadata": {},
   "outputs": [],
   "source": [
    "class BaselineGCN(torch.nn.Module):\n",
    "    \n",
    "    def __init__(self, hidden_channels):\n",
    "        super(BaselineGCN, self).__init__()\n",
    "        torch.manual_seed(42)\n",
    "        self.conv1 = GCNConv(1, hidden_channels)\n",
    "        self.conv2 = GCNConv(hidden_channels, hidden_channels)\n",
    "\n",
    "        self.fc1 = Linear(hidden_channels, 2)\n",
    "\n",
    "    def forward(self, data):\n",
    "        x, edge_index, batch = data.x, data.edge_index, data.batch\n",
    "\n",
    "        # 1. Obtain node embeddings.\n",
    "        # Two as in Kipf, Welling paper (2 cons, ReLU).\n",
    "        x = self.conv1(x, edge_index)\n",
    "        x = x.relu()\n",
    "        x = self.conv2(x, edge_index)\n",
    "\n",
    "        # 2. Readout layer.\n",
    "        x = global_add_pool(x, batch)  # [batch_size, hidden_channels]\n",
    "\n",
    "        # 3. Apply a final classifier.\n",
    "        x = self.fc1(x)     # CELoss already incorporates `log_softmax`.\n",
    "        \n",
    "        return x"
   ]
  },
  {
   "cell_type": "code",
   "execution_count": 32,
   "metadata": {},
   "outputs": [
    {
     "output_type": "execute_result",
     "data": {
      "text/plain": [
       "BaselineGCN(\n",
       "  (conv1): GCNConv(1, 8)\n",
       "  (conv2): GCNConv(8, 8)\n",
       "  (fc1): Linear(in_features=8, out_features=2, bias=True)\n",
       ")"
      ]
     },
     "metadata": {},
     "execution_count": 32
    }
   ],
   "source": [
    "# Architecture.\n",
    "BaselineGCN(hidden_channels=8)"
   ]
  },
  {
   "source": [
    "## Evaluation"
   ],
   "cell_type": "markdown",
   "metadata": {}
  },
  {
   "cell_type": "code",
   "execution_count": 33,
   "metadata": {},
   "outputs": [],
   "source": [
    "def evaluation_metrics(predicted, labels):\n",
    "    pred_positives = predicted == 1\n",
    "    label_positives = labels == 1\n",
    "\n",
    "    tp = (pred_positives & label_positives).sum().item()\n",
    "    tn = (~pred_positives & ~label_positives).sum().item()\n",
    "    fp = (pred_positives & ~label_positives).sum().item()\n",
    "    fn = (~pred_positives & label_positives).sum().item()\n",
    "\n",
    "    return tp, tn, fp, fn"
   ]
  },
  {
   "source": [
    "## Train model"
   ],
   "cell_type": "markdown",
   "metadata": {}
  },
  {
   "cell_type": "code",
   "execution_count": 34,
   "metadata": {},
   "outputs": [],
   "source": [
    "NUM_FOLDS = 7    # 140 = (120 + 20)"
   ]
  },
  {
   "cell_type": "code",
   "execution_count": 35,
   "metadata": {},
   "outputs": [],
   "source": [
    "skf = StratifiedKFold(n_splits=NUM_FOLDS, random_state=42, shuffle=True)"
   ]
  },
  {
   "cell_type": "code",
   "execution_count": 45,
   "metadata": {},
   "outputs": [],
   "source": [
    "# Settings.\n",
    "EPOCHS = 100\n",
    "LR = 0.001\n",
    "MOMENTUM = 0.5\n",
    "OPTIMIZER = 'sgd'\n",
    "LOSS = 'ce'\n",
    "BATCH_SIZE = 4\n",
    "\n",
    "HIDDEN_CHANNELS = 64\n",
    "\n",
    "VALIDATE_FREQ = 10"
   ]
  },
  {
   "cell_type": "code",
   "execution_count": 46,
   "metadata": {},
   "outputs": [],
   "source": [
    "# We only assess the first fold during model search.\n",
    "train_index, val_index = next(skf.split(np.zeros(len(train_targets)), train_targets))"
   ]
  },
  {
   "cell_type": "code",
   "execution_count": 47,
   "metadata": {},
   "outputs": [],
   "source": [
    "# Prepare data.\n",
    "X_train = [dataset[i] for i in train_index]\n",
    "X_val = [dataset[i] for i in val_index]\n",
    "\n",
    "trainloader = DataLoader(X_train, batch_size=BATCH_SIZE, shuffle=True)\n",
    "valloader = DataLoader(X_val, batch_size=BATCH_SIZE, shuffle=False)"
   ]
  },
  {
   "cell_type": "code",
   "execution_count": 50,
   "metadata": {},
   "outputs": [],
   "source": [
    "# Experiment.\n",
    "EXP_ID = 1"
   ]
  },
  {
   "cell_type": "code",
   "execution_count": 53,
   "metadata": {},
   "outputs": [],
   "source": [
    "# Init TB writer.\n",
    "foldername = f'id={EXP_ID:03d},fold=XXX,bs={BATCH_SIZE},e={EPOCHS},lr={LR},mom={MOMENTUM},opt={OPTIMIZER},loss={LOSS}'\n",
    "writer = SummaryWriter(f\"../runs/{foldername}\")\n",
    "\n",
    "# Init model.\n",
    "net = BaselineGCN(hidden_channels=HIDDEN_CHANNELS).to(device)\n",
    "optimizr = torch.optim.SGD(net.parameters(), lr=LR, momentum=MOMENTUM)\n",
    "criterion = torch.nn.CrossEntropyLoss()\n",
    "\n",
    "# Save architecture.\n",
    "with open(f\"../runs/{foldername}/architecture\", 'w') as f:\n",
    "    f.write(net.__str__())"
   ]
  },
  {
   "cell_type": "code",
   "execution_count": 54,
   "metadata": {},
   "outputs": [
    {
     "output_type": "stream",
     "name": "stdout",
     "text": [
      "Finished training\n"
     ]
    }
   ],
   "source": [
    "# Train.\n",
    "for epoch in range(EPOCHS):\n",
    "    running_loss = 0.\n",
    "    \n",
    "    for data in trainloader:\n",
    "        net.train()\n",
    "        optimizr.zero_grad()\n",
    "\n",
    "        outputs = net(data)\n",
    "        \n",
    "        loss = criterion(outputs, data.y)\n",
    "        loss.backward()\n",
    "        optimizr.step()\n",
    "\n",
    "        running_loss += loss.item()\n",
    "\n",
    "    epoch_loss = running_loss / len(trainloader)\n",
    "    writer.add_scalar('training loss', epoch_loss, epoch)\n",
    "\n",
    "    running_loss = 0.\n",
    "\n",
    "    # Evaluate epoch.\n",
    "    tp, tn, fp, fn = 0, 0, 0, 0\n",
    "    total = 0\n",
    "\n",
    "    for data in valloader:\n",
    "        net.eval()\n",
    "        optimizr.zero_grad()\n",
    "\n",
    "        outputs = net(data)\n",
    "        \n",
    "        loss = criterion(outputs, data.y)  # Compute the loss.\n",
    "        running_loss += loss.item()\n",
    "\n",
    "        if (epoch+1) % VALIDATE_FREQ == 0:\n",
    "            predicted = outputs.argmax(dim=1)\n",
    "            labels = data.y.view(-1)\n",
    "\n",
    "            # Update.\n",
    "            tp_, tn_, fp_, fn_ = evaluation_metrics(predicted, labels)\n",
    "            tp += tp_; tn += tn_; fp += fp_; fn += fn_\n",
    "            total += data.y.size(0)\n",
    "\n",
    "    epoch_loss = running_loss / len(valloader)\n",
    "    writer.add_scalar('validation loss', epoch_loss, epoch)\n",
    "    \n",
    "    if (epoch+1) % VALIDATE_FREQ == 0:\n",
    "        writer.add_scalar('validation accuracy', (tp + tn) / total, epoch)\n",
    "        writer.add_scalar('validation precision', tp / (tp + fp), epoch)\n",
    "        writer.add_scalar('validation recall', tp / (tp + fn), epoch)\n",
    "\n",
    "print('Finished training')"
   ]
  },
  {
   "cell_type": "code",
   "execution_count": null,
   "metadata": {},
   "outputs": [],
   "source": []
  }
 ]
}